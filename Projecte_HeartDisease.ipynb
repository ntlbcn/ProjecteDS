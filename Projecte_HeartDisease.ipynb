{
 "cells": [
  {
   "cell_type": "markdown",
   "id": "c48724fb",
   "metadata": {},
   "source": [
    "# Heart Disease\n",
    "\n",
    "Explicar la presència o absència de malaltia cardiovascular donat uns factors de risc, per això, es disposa del conjunt de dades **cardio_train.csv** obtingut de Kaggle (https://www.kaggle.com/sulianova/cardiovascular-disease-dataset)"
   ]
  },
  {
   "cell_type": "markdown",
   "id": "2bfeb33e",
   "metadata": {},
   "source": [
    "Carreguem les llibreries disponibles:"
   ]
  },
  {
   "cell_type": "code",
   "execution_count": 1,
   "id": "e631b968",
   "metadata": {},
   "outputs": [],
   "source": [
    "import pandas as pd\n",
    "import matplotlib.pyplot as plt\n",
    "import seaborn as sns\n",
    "\n",
    "from sklearn.preprocessing import StandardScaler\n",
    "from sklearn.linear_model import LogisticRegression\n",
    "from sklearn.tree import DecisionTreeClassifier\n",
    "from sklearn.neighbors import KNeighborsClassifier\n",
    "from sklearn.svm import SVC\n",
    "from sklearn.model_selection import train_test_split\n",
    "from sklearn import metrics\n",
    "from sklearn.metrics import *"
   ]
  },
  {
   "cell_type": "markdown",
   "id": "ed150c63",
   "metadata": {},
   "source": [
    "Lectura de dades:"
   ]
  },
  {
   "cell_type": "code",
   "execution_count": 2,
   "id": "33395c3f",
   "metadata": {},
   "outputs": [],
   "source": [
    "hd = pd.read_csv('./../data/cardio_train.csv', sep = \";\", index_col = 0)"
   ]
  },
  {
   "cell_type": "markdown",
   "id": "7e342ee2",
   "metadata": {},
   "source": [
    "## Anàlisi inicial"
   ]
  },
  {
   "cell_type": "markdown",
   "id": "a563e149",
   "metadata": {},
   "source": [
    "Primer contacte amb el conjunt de dades:"
   ]
  },
  {
   "cell_type": "code",
   "execution_count": 3,
   "id": "005b0168",
   "metadata": {},
   "outputs": [
    {
     "data": {
      "text/plain": [
       "(70000, 12)"
      ]
     },
     "execution_count": 3,
     "metadata": {},
     "output_type": "execute_result"
    }
   ],
   "source": [
    "hd.shape"
   ]
  },
  {
   "cell_type": "code",
   "execution_count": 4,
   "id": "148ec421",
   "metadata": {},
   "outputs": [
    {
     "data": {
      "text/html": [
       "<div>\n",
       "<style scoped>\n",
       "    .dataframe tbody tr th:only-of-type {\n",
       "        vertical-align: middle;\n",
       "    }\n",
       "\n",
       "    .dataframe tbody tr th {\n",
       "        vertical-align: top;\n",
       "    }\n",
       "\n",
       "    .dataframe thead th {\n",
       "        text-align: right;\n",
       "    }\n",
       "</style>\n",
       "<table border=\"1\" class=\"dataframe\">\n",
       "  <thead>\n",
       "    <tr style=\"text-align: right;\">\n",
       "      <th></th>\n",
       "      <th>age</th>\n",
       "      <th>gender</th>\n",
       "      <th>height</th>\n",
       "      <th>weight</th>\n",
       "      <th>ap_hi</th>\n",
       "      <th>ap_lo</th>\n",
       "      <th>cholesterol</th>\n",
       "      <th>gluc</th>\n",
       "      <th>smoke</th>\n",
       "      <th>alco</th>\n",
       "      <th>active</th>\n",
       "      <th>cardio</th>\n",
       "    </tr>\n",
       "    <tr>\n",
       "      <th>id</th>\n",
       "      <th></th>\n",
       "      <th></th>\n",
       "      <th></th>\n",
       "      <th></th>\n",
       "      <th></th>\n",
       "      <th></th>\n",
       "      <th></th>\n",
       "      <th></th>\n",
       "      <th></th>\n",
       "      <th></th>\n",
       "      <th></th>\n",
       "      <th></th>\n",
       "    </tr>\n",
       "  </thead>\n",
       "  <tbody>\n",
       "    <tr>\n",
       "      <th>0</th>\n",
       "      <td>18393</td>\n",
       "      <td>2</td>\n",
       "      <td>168</td>\n",
       "      <td>62.0</td>\n",
       "      <td>110</td>\n",
       "      <td>80</td>\n",
       "      <td>1</td>\n",
       "      <td>1</td>\n",
       "      <td>0</td>\n",
       "      <td>0</td>\n",
       "      <td>1</td>\n",
       "      <td>0</td>\n",
       "    </tr>\n",
       "    <tr>\n",
       "      <th>1</th>\n",
       "      <td>20228</td>\n",
       "      <td>1</td>\n",
       "      <td>156</td>\n",
       "      <td>85.0</td>\n",
       "      <td>140</td>\n",
       "      <td>90</td>\n",
       "      <td>3</td>\n",
       "      <td>1</td>\n",
       "      <td>0</td>\n",
       "      <td>0</td>\n",
       "      <td>1</td>\n",
       "      <td>1</td>\n",
       "    </tr>\n",
       "    <tr>\n",
       "      <th>2</th>\n",
       "      <td>18857</td>\n",
       "      <td>1</td>\n",
       "      <td>165</td>\n",
       "      <td>64.0</td>\n",
       "      <td>130</td>\n",
       "      <td>70</td>\n",
       "      <td>3</td>\n",
       "      <td>1</td>\n",
       "      <td>0</td>\n",
       "      <td>0</td>\n",
       "      <td>0</td>\n",
       "      <td>1</td>\n",
       "    </tr>\n",
       "    <tr>\n",
       "      <th>3</th>\n",
       "      <td>17623</td>\n",
       "      <td>2</td>\n",
       "      <td>169</td>\n",
       "      <td>82.0</td>\n",
       "      <td>150</td>\n",
       "      <td>100</td>\n",
       "      <td>1</td>\n",
       "      <td>1</td>\n",
       "      <td>0</td>\n",
       "      <td>0</td>\n",
       "      <td>1</td>\n",
       "      <td>1</td>\n",
       "    </tr>\n",
       "    <tr>\n",
       "      <th>4</th>\n",
       "      <td>17474</td>\n",
       "      <td>1</td>\n",
       "      <td>156</td>\n",
       "      <td>56.0</td>\n",
       "      <td>100</td>\n",
       "      <td>60</td>\n",
       "      <td>1</td>\n",
       "      <td>1</td>\n",
       "      <td>0</td>\n",
       "      <td>0</td>\n",
       "      <td>0</td>\n",
       "      <td>0</td>\n",
       "    </tr>\n",
       "  </tbody>\n",
       "</table>\n",
       "</div>"
      ],
      "text/plain": [
       "      age  gender  height  weight  ap_hi  ap_lo  cholesterol  gluc  smoke  \\\n",
       "id                                                                          \n",
       "0   18393       2     168    62.0    110     80            1     1      0   \n",
       "1   20228       1     156    85.0    140     90            3     1      0   \n",
       "2   18857       1     165    64.0    130     70            3     1      0   \n",
       "3   17623       2     169    82.0    150    100            1     1      0   \n",
       "4   17474       1     156    56.0    100     60            1     1      0   \n",
       "\n",
       "    alco  active  cardio  \n",
       "id                        \n",
       "0      0       1       0  \n",
       "1      0       1       1  \n",
       "2      0       0       1  \n",
       "3      0       1       1  \n",
       "4      0       0       0  "
      ]
     },
     "execution_count": 4,
     "metadata": {},
     "output_type": "execute_result"
    }
   ],
   "source": [
    "hd.head()"
   ]
  },
  {
   "cell_type": "code",
   "execution_count": 5,
   "id": "361fc226",
   "metadata": {},
   "outputs": [
    {
     "data": {
      "text/plain": [
       "age            0\n",
       "gender         0\n",
       "height         0\n",
       "weight         0\n",
       "ap_hi          0\n",
       "ap_lo          0\n",
       "cholesterol    0\n",
       "gluc           0\n",
       "smoke          0\n",
       "alco           0\n",
       "active         0\n",
       "cardio         0\n",
       "dtype: int64"
      ]
     },
     "execution_count": 5,
     "metadata": {},
     "output_type": "execute_result"
    }
   ],
   "source": [
    "hd.isnull().sum()"
   ]
  },
  {
   "cell_type": "code",
   "execution_count": 6,
   "id": "0d2f53c9",
   "metadata": {},
   "outputs": [
    {
     "name": "stdout",
     "output_type": "stream",
     "text": [
      "<class 'pandas.core.frame.DataFrame'>\n",
      "Int64Index: 70000 entries, 0 to 99999\n",
      "Data columns (total 12 columns):\n",
      " #   Column       Non-Null Count  Dtype  \n",
      "---  ------       --------------  -----  \n",
      " 0   age          70000 non-null  int64  \n",
      " 1   gender       70000 non-null  int64  \n",
      " 2   height       70000 non-null  int64  \n",
      " 3   weight       70000 non-null  float64\n",
      " 4   ap_hi        70000 non-null  int64  \n",
      " 5   ap_lo        70000 non-null  int64  \n",
      " 6   cholesterol  70000 non-null  int64  \n",
      " 7   gluc         70000 non-null  int64  \n",
      " 8   smoke        70000 non-null  int64  \n",
      " 9   alco         70000 non-null  int64  \n",
      " 10  active       70000 non-null  int64  \n",
      " 11  cardio       70000 non-null  int64  \n",
      "dtypes: float64(1), int64(11)\n",
      "memory usage: 6.9 MB\n"
     ]
    }
   ],
   "source": [
    "hd.info()"
   ]
  },
  {
   "cell_type": "markdown",
   "id": "68b3440d",
   "metadata": {},
   "source": [
    "Conjunt de dades format per 12 variables (11 amb valors enters i només una amb decimals), en el que no hi ha cap missing. Com consta en la descripció del conjunt de dades, és una variable objectiu (binària) i 11 variables amb característiques/features. "
   ]
  },
  {
   "cell_type": "markdown",
   "id": "b306fa06",
   "metadata": {},
   "source": [
    "Creem algunes variables d'interès:"
   ]
  },
  {
   "cell_type": "markdown",
   "id": "051c2de7",
   "metadata": {},
   "source": [
    "- L'edat està calculda en dies, la passem a anys"
   ]
  },
  {
   "cell_type": "code",
   "execution_count": 7,
   "id": "b8942902",
   "metadata": {},
   "outputs": [],
   "source": [
    "hd['age_years'] = (hd['age']/365.25).round().astype('int')"
   ]
  },
  {
   "cell_type": "markdown",
   "id": "b3359c89",
   "metadata": {},
   "source": [
    "- Índex de massa corporal, calculada a partir de l'alçada i el pes"
   ]
  },
  {
   "cell_type": "code",
   "execution_count": 8,
   "id": "73699d56",
   "metadata": {},
   "outputs": [],
   "source": [
    "hd['BMI'] = hd['weight']/((hd['height']/100)**2)"
   ]
  },
  {
   "cell_type": "markdown",
   "id": "12e03fb7",
   "metadata": {},
   "source": [
    "## Anàlisi descriptiu"
   ]
  },
  {
   "cell_type": "markdown",
   "id": "6bad492a",
   "metadata": {},
   "source": [
    "Descriptiva general del conjunt de dades"
   ]
  },
  {
   "cell_type": "code",
   "execution_count": 9,
   "id": "be2bfdd6",
   "metadata": {},
   "outputs": [
    {
     "data": {
      "text/html": [
       "<div>\n",
       "<style scoped>\n",
       "    .dataframe tbody tr th:only-of-type {\n",
       "        vertical-align: middle;\n",
       "    }\n",
       "\n",
       "    .dataframe tbody tr th {\n",
       "        vertical-align: top;\n",
       "    }\n",
       "\n",
       "    .dataframe thead th {\n",
       "        text-align: right;\n",
       "    }\n",
       "</style>\n",
       "<table border=\"1\" class=\"dataframe\">\n",
       "  <thead>\n",
       "    <tr style=\"text-align: right;\">\n",
       "      <th></th>\n",
       "      <th>age</th>\n",
       "      <th>gender</th>\n",
       "      <th>height</th>\n",
       "      <th>weight</th>\n",
       "      <th>ap_hi</th>\n",
       "      <th>ap_lo</th>\n",
       "      <th>cholesterol</th>\n",
       "      <th>gluc</th>\n",
       "      <th>smoke</th>\n",
       "      <th>alco</th>\n",
       "      <th>active</th>\n",
       "      <th>cardio</th>\n",
       "      <th>age_years</th>\n",
       "      <th>BMI</th>\n",
       "    </tr>\n",
       "  </thead>\n",
       "  <tbody>\n",
       "    <tr>\n",
       "      <th>count</th>\n",
       "      <td>70000.000000</td>\n",
       "      <td>70000.000000</td>\n",
       "      <td>70000.000000</td>\n",
       "      <td>70000.000000</td>\n",
       "      <td>70000.000000</td>\n",
       "      <td>70000.000000</td>\n",
       "      <td>70000.000000</td>\n",
       "      <td>70000.000000</td>\n",
       "      <td>70000.000000</td>\n",
       "      <td>70000.000000</td>\n",
       "      <td>70000.000000</td>\n",
       "      <td>70000.000000</td>\n",
       "      <td>70000.000000</td>\n",
       "      <td>70000.000000</td>\n",
       "    </tr>\n",
       "    <tr>\n",
       "      <th>mean</th>\n",
       "      <td>19468.865814</td>\n",
       "      <td>1.349571</td>\n",
       "      <td>164.359229</td>\n",
       "      <td>74.205690</td>\n",
       "      <td>128.817286</td>\n",
       "      <td>96.630414</td>\n",
       "      <td>1.366871</td>\n",
       "      <td>1.226457</td>\n",
       "      <td>0.088129</td>\n",
       "      <td>0.053771</td>\n",
       "      <td>0.803729</td>\n",
       "      <td>0.499700</td>\n",
       "      <td>53.303157</td>\n",
       "      <td>27.556513</td>\n",
       "    </tr>\n",
       "    <tr>\n",
       "      <th>std</th>\n",
       "      <td>2467.251667</td>\n",
       "      <td>0.476838</td>\n",
       "      <td>8.210126</td>\n",
       "      <td>14.395757</td>\n",
       "      <td>154.011419</td>\n",
       "      <td>188.472530</td>\n",
       "      <td>0.680250</td>\n",
       "      <td>0.572270</td>\n",
       "      <td>0.283484</td>\n",
       "      <td>0.225568</td>\n",
       "      <td>0.397179</td>\n",
       "      <td>0.500003</td>\n",
       "      <td>6.760171</td>\n",
       "      <td>6.091511</td>\n",
       "    </tr>\n",
       "    <tr>\n",
       "      <th>min</th>\n",
       "      <td>10798.000000</td>\n",
       "      <td>1.000000</td>\n",
       "      <td>55.000000</td>\n",
       "      <td>10.000000</td>\n",
       "      <td>-150.000000</td>\n",
       "      <td>-70.000000</td>\n",
       "      <td>1.000000</td>\n",
       "      <td>1.000000</td>\n",
       "      <td>0.000000</td>\n",
       "      <td>0.000000</td>\n",
       "      <td>0.000000</td>\n",
       "      <td>0.000000</td>\n",
       "      <td>30.000000</td>\n",
       "      <td>3.471784</td>\n",
       "    </tr>\n",
       "    <tr>\n",
       "      <th>25%</th>\n",
       "      <td>17664.000000</td>\n",
       "      <td>1.000000</td>\n",
       "      <td>159.000000</td>\n",
       "      <td>65.000000</td>\n",
       "      <td>120.000000</td>\n",
       "      <td>80.000000</td>\n",
       "      <td>1.000000</td>\n",
       "      <td>1.000000</td>\n",
       "      <td>0.000000</td>\n",
       "      <td>0.000000</td>\n",
       "      <td>1.000000</td>\n",
       "      <td>0.000000</td>\n",
       "      <td>48.000000</td>\n",
       "      <td>23.875115</td>\n",
       "    </tr>\n",
       "    <tr>\n",
       "      <th>50%</th>\n",
       "      <td>19703.000000</td>\n",
       "      <td>1.000000</td>\n",
       "      <td>165.000000</td>\n",
       "      <td>72.000000</td>\n",
       "      <td>120.000000</td>\n",
       "      <td>80.000000</td>\n",
       "      <td>1.000000</td>\n",
       "      <td>1.000000</td>\n",
       "      <td>0.000000</td>\n",
       "      <td>0.000000</td>\n",
       "      <td>1.000000</td>\n",
       "      <td>0.000000</td>\n",
       "      <td>54.000000</td>\n",
       "      <td>26.374068</td>\n",
       "    </tr>\n",
       "    <tr>\n",
       "      <th>75%</th>\n",
       "      <td>21327.000000</td>\n",
       "      <td>2.000000</td>\n",
       "      <td>170.000000</td>\n",
       "      <td>82.000000</td>\n",
       "      <td>140.000000</td>\n",
       "      <td>90.000000</td>\n",
       "      <td>2.000000</td>\n",
       "      <td>1.000000</td>\n",
       "      <td>0.000000</td>\n",
       "      <td>0.000000</td>\n",
       "      <td>1.000000</td>\n",
       "      <td>1.000000</td>\n",
       "      <td>58.000000</td>\n",
       "      <td>30.222222</td>\n",
       "    </tr>\n",
       "    <tr>\n",
       "      <th>max</th>\n",
       "      <td>23713.000000</td>\n",
       "      <td>2.000000</td>\n",
       "      <td>250.000000</td>\n",
       "      <td>200.000000</td>\n",
       "      <td>16020.000000</td>\n",
       "      <td>11000.000000</td>\n",
       "      <td>3.000000</td>\n",
       "      <td>3.000000</td>\n",
       "      <td>1.000000</td>\n",
       "      <td>1.000000</td>\n",
       "      <td>1.000000</td>\n",
       "      <td>1.000000</td>\n",
       "      <td>65.000000</td>\n",
       "      <td>298.666667</td>\n",
       "    </tr>\n",
       "  </tbody>\n",
       "</table>\n",
       "</div>"
      ],
      "text/plain": [
       "                age        gender        height        weight         ap_hi  \\\n",
       "count  70000.000000  70000.000000  70000.000000  70000.000000  70000.000000   \n",
       "mean   19468.865814      1.349571    164.359229     74.205690    128.817286   \n",
       "std     2467.251667      0.476838      8.210126     14.395757    154.011419   \n",
       "min    10798.000000      1.000000     55.000000     10.000000   -150.000000   \n",
       "25%    17664.000000      1.000000    159.000000     65.000000    120.000000   \n",
       "50%    19703.000000      1.000000    165.000000     72.000000    120.000000   \n",
       "75%    21327.000000      2.000000    170.000000     82.000000    140.000000   \n",
       "max    23713.000000      2.000000    250.000000    200.000000  16020.000000   \n",
       "\n",
       "              ap_lo   cholesterol          gluc         smoke          alco  \\\n",
       "count  70000.000000  70000.000000  70000.000000  70000.000000  70000.000000   \n",
       "mean      96.630414      1.366871      1.226457      0.088129      0.053771   \n",
       "std      188.472530      0.680250      0.572270      0.283484      0.225568   \n",
       "min      -70.000000      1.000000      1.000000      0.000000      0.000000   \n",
       "25%       80.000000      1.000000      1.000000      0.000000      0.000000   \n",
       "50%       80.000000      1.000000      1.000000      0.000000      0.000000   \n",
       "75%       90.000000      2.000000      1.000000      0.000000      0.000000   \n",
       "max    11000.000000      3.000000      3.000000      1.000000      1.000000   \n",
       "\n",
       "             active        cardio     age_years           BMI  \n",
       "count  70000.000000  70000.000000  70000.000000  70000.000000  \n",
       "mean       0.803729      0.499700     53.303157     27.556513  \n",
       "std        0.397179      0.500003      6.760171      6.091511  \n",
       "min        0.000000      0.000000     30.000000      3.471784  \n",
       "25%        1.000000      0.000000     48.000000     23.875115  \n",
       "50%        1.000000      0.000000     54.000000     26.374068  \n",
       "75%        1.000000      1.000000     58.000000     30.222222  \n",
       "max        1.000000      1.000000     65.000000    298.666667  "
      ]
     },
     "execution_count": 9,
     "metadata": {},
     "output_type": "execute_result"
    }
   ],
   "source": [
    "hd.describe()"
   ]
  },
  {
   "cell_type": "markdown",
   "id": "878f2263",
   "metadata": {},
   "source": [
    "Encara que en el conjunt de dades no hi ha cap missing. Si que sembla que hi hagin dades errònies, o almenys valors molt extrems (els valors màxims són molt més alts que els valors del percentil 75 o els valors mínim sóm molt més petits que el percentil 25):\n",
    "- Alçada màxima és de 250 cm\n",
    "- Alçada mínima de 55 cm (població adulta: 30-65 anys)\n",
    "- Pes màxim de 200 Kg \n",
    "- Pes mínim de 10 Kg (població adulta: 30-65 anys)\n",
    "- Valors de pressions (sistòlica i diastòlica) molt elevats\n",
    "- Valors de pressions negatius"
   ]
  },
  {
   "cell_type": "markdown",
   "id": "13031036",
   "metadata": {},
   "source": [
    "Ho mirem tambés amb uns gràfics:"
   ]
  },
  {
   "cell_type": "code",
   "execution_count": 10,
   "id": "93886b59",
   "metadata": {},
   "outputs": [
    {
     "data": {
      "image/png": "[encoded data removed]",
      "text/plain": [
       "<Figure size 432x288 with 1 Axes>"
      ]
     },
     "metadata": {
      "needs_background": "light"
     },
     "output_type": "display_data"
    }
   ],
   "source": [
    "plt.boxplot(hd['height'])\n",
    "plt.xlabel(\"Alçada en cm\")\n",
    "plt.show()"
   ]
  },
  {
   "cell_type": "code",
   "execution_count": 11,
   "id": "9eab23d3",
   "metadata": {},
   "outputs": [
    {
     "data": {
      "image/png": "[encoded data removed]",
      "text/plain": [
       "<Figure size 432x288 with 1 Axes>"
      ]
     },
     "metadata": {
      "needs_background": "light"
     },
     "output_type": "display_data"
    }
   ],
   "source": [
    "plt.boxplot(hd['weight'])\n",
    "plt.xlabel(\"Pes en Kg\")\n",
    "plt.show()"
   ]
  },
  {
   "cell_type": "code",
   "execution_count": 12,
   "id": "c2c3314e",
   "metadata": {},
   "outputs": [
    {
     "data": {
      "image/png": "[encoded data removed]",
      "text/plain": [
       "<Figure size 432x288 with 1 Axes>"
      ]
     },
     "metadata": {
      "needs_background": "light"
     },
     "output_type": "display_data"
    }
   ],
   "source": [
    "plt.boxplot(hd['ap_hi'])\n",
    "plt.xlabel(\"Pressió sistòlica en mmHg\")\n",
    "plt.show()"
   ]
  },
  {
   "cell_type": "code",
   "execution_count": 13,
   "id": "983cd391",
   "metadata": {},
   "outputs": [
    {
     "data": {
      "image/png": "[encoded data removed]",
      "text/plain": [
       "<Figure size 432x288 with 1 Axes>"
      ]
     },
     "metadata": {
      "needs_background": "light"
     },
     "output_type": "display_data"
    }
   ],
   "source": [
    "plt.boxplot(hd['ap_lo'])\n",
    "plt.xlabel(\"Pressió diastòlica en mmHg\")\n",
    "plt.show()"
   ]
  },
  {
   "cell_type": "markdown",
   "id": "07dcdbf1",
   "metadata": {},
   "source": [
    "Hi ha força valors \"extrems\" tant pel que fa als valors mínims com als màxims. Haurem d'eliminar aquestes casos del nostre conjunt de dades. Abans revisem un error de notificació típic d'aquest tipus de dades, intercanviar els valors de pressió diastòlica i sistòlica"
   ]
  },
  {
   "cell_type": "code",
   "execution_count": 14,
   "id": "1bcd6059",
   "metadata": {},
   "outputs": [
    {
     "data": {
      "text/plain": [
       "(70000, 14)"
      ]
     },
     "execution_count": 14,
     "metadata": {},
     "output_type": "execute_result"
    }
   ],
   "source": [
    "hd2 = hd\n",
    "hd2.shape"
   ]
  },
  {
   "cell_type": "markdown",
   "id": "d3fe8017",
   "metadata": {},
   "source": [
    "La pressió diastòlica (ap_lo) ha de ser menor que la pressió sistòlica (ap_hi)"
   ]
  },
  {
   "cell_type": "code",
   "execution_count": 15,
   "id": "0d5ba43f",
   "metadata": {},
   "outputs": [],
   "source": [
    "hd2['pres_ok'] = (hd2['ap_lo'] < hd2['ap_hi']).astype('int')"
   ]
  },
  {
   "cell_type": "code",
   "execution_count": 16,
   "id": "8e105f04",
   "metadata": {},
   "outputs": [
    {
     "data": {
      "text/plain": [
       "1    68764\n",
       "0     1236\n",
       "Name: pres_ok, dtype: int64"
      ]
     },
     "execution_count": 16,
     "metadata": {},
     "output_type": "execute_result"
    }
   ],
   "source": [
    "hd2['pres_ok'].value_counts()"
   ]
  },
  {
   "cell_type": "markdown",
   "id": "4a5f2e53",
   "metadata": {},
   "source": [
    "És possible que part dels valors extrems en les variables de pressió sistòlica i diastòlica sigui per aquest possible intercanvi de paràmetres. Si eliminem els casos més extrems del nostre conjunt de dades, segurament eliminem aquests casos. \n",
    "Eliminem del nostre conjunt de dades els valors més extrems, i ho farem quedant-nos només amb valors d'aquestes 4 variables que estiguin entre el percentil 2.5-97.5"
   ]
  },
  {
   "cell_type": "code",
   "execution_count": 17,
   "id": "6c8c27bf",
   "metadata": {},
   "outputs": [],
   "source": [
    "hd2.drop(hd2[(hd2['height'] > hd2['height'].quantile(0.975)) | (hd2['height'] < hd2['height'].quantile(0.025))].index, inplace=True)"
   ]
  },
  {
   "cell_type": "code",
   "execution_count": 18,
   "id": "833c98b8",
   "metadata": {},
   "outputs": [],
   "source": [
    "hd2.drop(hd2[(hd2['weight'] > hd2['weight'].quantile(0.975)) | (hd2['weight'] < hd2['weight'].quantile(0.025))].index, inplace=True)"
   ]
  },
  {
   "cell_type": "code",
   "execution_count": 19,
   "id": "156157fb",
   "metadata": {},
   "outputs": [],
   "source": [
    "hd2.drop(hd2[(hd2['ap_hi'] > hd2['ap_hi'].quantile(0.975)) | (hd2['ap_hi'] < hd2['ap_hi'].quantile(0.025))].index, inplace=True)"
   ]
  },
  {
   "cell_type": "code",
   "execution_count": 20,
   "id": "30ca6b39",
   "metadata": {},
   "outputs": [],
   "source": [
    "hd2.drop(hd2[(hd2['ap_lo'] > hd2['ap_lo'].quantile(0.975)) | (hd2['ap_lo'] < hd2['ap_lo'].quantile(0.025))].index, inplace=True)"
   ]
  },
  {
   "cell_type": "markdown",
   "id": "73f76c0b",
   "metadata": {},
   "source": [
    "Revisem els casos subseptibles que s'hagin intercanviat els paràmetres de la pressió"
   ]
  },
  {
   "cell_type": "code",
   "execution_count": 21,
   "id": "b33c857f",
   "metadata": {},
   "outputs": [
    {
     "data": {
      "text/plain": [
       "1    60141\n",
       "0        1\n",
       "Name: pres_ok, dtype: int64"
      ]
     },
     "execution_count": 21,
     "metadata": {},
     "output_type": "execute_result"
    }
   ],
   "source": [
    "hd2['pres_ok'].value_counts()"
   ]
  },
  {
   "cell_type": "markdown",
   "id": "5d364cac",
   "metadata": {},
   "source": [
    "Només ha quedat un cas, l'eliminem"
   ]
  },
  {
   "cell_type": "code",
   "execution_count": 22,
   "id": "5621b3c7",
   "metadata": {},
   "outputs": [],
   "source": [
    "hd2.drop(hd2[(hd2['pres_ok'] == 0)].index, inplace=True)"
   ]
  },
  {
   "cell_type": "markdown",
   "id": "073bdc91",
   "metadata": {},
   "source": [
    "Un cop eliminats aquests valors, tornem a explorar el conjunt de dades:"
   ]
  },
  {
   "cell_type": "code",
   "execution_count": 23,
   "id": "439e1dc1",
   "metadata": {},
   "outputs": [
    {
     "data": {
      "text/plain": [
       "(60141, 15)"
      ]
     },
     "execution_count": 23,
     "metadata": {},
     "output_type": "execute_result"
    }
   ],
   "source": [
    "hd2.shape"
   ]
  },
  {
   "cell_type": "code",
   "execution_count": 24,
   "id": "ba9d5a8e",
   "metadata": {},
   "outputs": [
    {
     "data": {
      "text/html": [
       "<div>\n",
       "<style scoped>\n",
       "    .dataframe tbody tr th:only-of-type {\n",
       "        vertical-align: middle;\n",
       "    }\n",
       "\n",
       "    .dataframe tbody tr th {\n",
       "        vertical-align: top;\n",
       "    }\n",
       "\n",
       "    .dataframe thead th {\n",
       "        text-align: right;\n",
       "    }\n",
       "</style>\n",
       "<table border=\"1\" class=\"dataframe\">\n",
       "  <thead>\n",
       "    <tr style=\"text-align: right;\">\n",
       "      <th></th>\n",
       "      <th>age</th>\n",
       "      <th>gender</th>\n",
       "      <th>height</th>\n",
       "      <th>weight</th>\n",
       "      <th>ap_hi</th>\n",
       "      <th>ap_lo</th>\n",
       "      <th>cholesterol</th>\n",
       "      <th>gluc</th>\n",
       "      <th>smoke</th>\n",
       "      <th>alco</th>\n",
       "      <th>active</th>\n",
       "      <th>cardio</th>\n",
       "      <th>age_years</th>\n",
       "      <th>BMI</th>\n",
       "      <th>pres_ok</th>\n",
       "    </tr>\n",
       "  </thead>\n",
       "  <tbody>\n",
       "    <tr>\n",
       "      <th>count</th>\n",
       "      <td>60141.000000</td>\n",
       "      <td>60141.000000</td>\n",
       "      <td>60141.000000</td>\n",
       "      <td>60141.000000</td>\n",
       "      <td>60141.000000</td>\n",
       "      <td>60141.000000</td>\n",
       "      <td>60141.000000</td>\n",
       "      <td>60141.000000</td>\n",
       "      <td>60141.000000</td>\n",
       "      <td>60141.000000</td>\n",
       "      <td>60141.000000</td>\n",
       "      <td>60141.000000</td>\n",
       "      <td>60141.000000</td>\n",
       "      <td>60141.000000</td>\n",
       "      <td>60141.0</td>\n",
       "    </tr>\n",
       "    <tr>\n",
       "      <th>mean</th>\n",
       "      <td>19468.781198</td>\n",
       "      <td>1.347301</td>\n",
       "      <td>164.554630</td>\n",
       "      <td>73.426280</td>\n",
       "      <td>125.770955</td>\n",
       "      <td>81.045992</td>\n",
       "      <td>1.350959</td>\n",
       "      <td>1.220232</td>\n",
       "      <td>0.085632</td>\n",
       "      <td>0.051878</td>\n",
       "      <td>0.803661</td>\n",
       "      <td>0.488219</td>\n",
       "      <td>53.303537</td>\n",
       "      <td>27.170529</td>\n",
       "      <td>1.0</td>\n",
       "    </tr>\n",
       "    <tr>\n",
       "      <th>std</th>\n",
       "      <td>2460.484949</td>\n",
       "      <td>0.476116</td>\n",
       "      <td>6.830011</td>\n",
       "      <td>11.614189</td>\n",
       "      <td>13.761560</td>\n",
       "      <td>8.238863</td>\n",
       "      <td>0.670080</td>\n",
       "      <td>0.567611</td>\n",
       "      <td>0.279822</td>\n",
       "      <td>0.221783</td>\n",
       "      <td>0.397231</td>\n",
       "      <td>0.499865</td>\n",
       "      <td>6.742020</td>\n",
       "      <td>4.404558</td>\n",
       "      <td>0.0</td>\n",
       "    </tr>\n",
       "    <tr>\n",
       "      <th>min</th>\n",
       "      <td>10798.000000</td>\n",
       "      <td>1.000000</td>\n",
       "      <td>150.000000</td>\n",
       "      <td>52.000000</td>\n",
       "      <td>100.000000</td>\n",
       "      <td>60.000000</td>\n",
       "      <td>1.000000</td>\n",
       "      <td>1.000000</td>\n",
       "      <td>0.000000</td>\n",
       "      <td>0.000000</td>\n",
       "      <td>0.000000</td>\n",
       "      <td>0.000000</td>\n",
       "      <td>30.000000</td>\n",
       "      <td>16.049383</td>\n",
       "      <td>1.0</td>\n",
       "    </tr>\n",
       "    <tr>\n",
       "      <th>25%</th>\n",
       "      <td>17678.000000</td>\n",
       "      <td>1.000000</td>\n",
       "      <td>160.000000</td>\n",
       "      <td>65.000000</td>\n",
       "      <td>120.000000</td>\n",
       "      <td>80.000000</td>\n",
       "      <td>1.000000</td>\n",
       "      <td>1.000000</td>\n",
       "      <td>0.000000</td>\n",
       "      <td>0.000000</td>\n",
       "      <td>1.000000</td>\n",
       "      <td>0.000000</td>\n",
       "      <td>48.000000</td>\n",
       "      <td>23.875115</td>\n",
       "      <td>1.0</td>\n",
       "    </tr>\n",
       "    <tr>\n",
       "      <th>50%</th>\n",
       "      <td>19705.000000</td>\n",
       "      <td>1.000000</td>\n",
       "      <td>165.000000</td>\n",
       "      <td>72.000000</td>\n",
       "      <td>120.000000</td>\n",
       "      <td>80.000000</td>\n",
       "      <td>1.000000</td>\n",
       "      <td>1.000000</td>\n",
       "      <td>0.000000</td>\n",
       "      <td>0.000000</td>\n",
       "      <td>1.000000</td>\n",
       "      <td>0.000000</td>\n",
       "      <td>54.000000</td>\n",
       "      <td>26.259585</td>\n",
       "      <td>1.0</td>\n",
       "    </tr>\n",
       "    <tr>\n",
       "      <th>75%</th>\n",
       "      <td>21321.000000</td>\n",
       "      <td>2.000000</td>\n",
       "      <td>169.000000</td>\n",
       "      <td>80.000000</td>\n",
       "      <td>135.000000</td>\n",
       "      <td>90.000000</td>\n",
       "      <td>1.000000</td>\n",
       "      <td>1.000000</td>\n",
       "      <td>0.000000</td>\n",
       "      <td>0.000000</td>\n",
       "      <td>1.000000</td>\n",
       "      <td>1.000000</td>\n",
       "      <td>58.000000</td>\n",
       "      <td>29.752066</td>\n",
       "      <td>1.0</td>\n",
       "    </tr>\n",
       "    <tr>\n",
       "      <th>max</th>\n",
       "      <td>23713.000000</td>\n",
       "      <td>2.000000</td>\n",
       "      <td>180.000000</td>\n",
       "      <td>106.000000</td>\n",
       "      <td>163.000000</td>\n",
       "      <td>100.000000</td>\n",
       "      <td>3.000000</td>\n",
       "      <td>3.000000</td>\n",
       "      <td>1.000000</td>\n",
       "      <td>1.000000</td>\n",
       "      <td>1.000000</td>\n",
       "      <td>1.000000</td>\n",
       "      <td>65.000000</td>\n",
       "      <td>46.666667</td>\n",
       "      <td>1.0</td>\n",
       "    </tr>\n",
       "  </tbody>\n",
       "</table>\n",
       "</div>"
      ],
      "text/plain": [
       "                age        gender        height        weight         ap_hi  \\\n",
       "count  60141.000000  60141.000000  60141.000000  60141.000000  60141.000000   \n",
       "mean   19468.781198      1.347301    164.554630     73.426280    125.770955   \n",
       "std     2460.484949      0.476116      6.830011     11.614189     13.761560   \n",
       "min    10798.000000      1.000000    150.000000     52.000000    100.000000   \n",
       "25%    17678.000000      1.000000    160.000000     65.000000    120.000000   \n",
       "50%    19705.000000      1.000000    165.000000     72.000000    120.000000   \n",
       "75%    21321.000000      2.000000    169.000000     80.000000    135.000000   \n",
       "max    23713.000000      2.000000    180.000000    106.000000    163.000000   \n",
       "\n",
       "              ap_lo   cholesterol          gluc         smoke          alco  \\\n",
       "count  60141.000000  60141.000000  60141.000000  60141.000000  60141.000000   \n",
       "mean      81.045992      1.350959      1.220232      0.085632      0.051878   \n",
       "std        8.238863      0.670080      0.567611      0.279822      0.221783   \n",
       "min       60.000000      1.000000      1.000000      0.000000      0.000000   \n",
       "25%       80.000000      1.000000      1.000000      0.000000      0.000000   \n",
       "50%       80.000000      1.000000      1.000000      0.000000      0.000000   \n",
       "75%       90.000000      1.000000      1.000000      0.000000      0.000000   \n",
       "max      100.000000      3.000000      3.000000      1.000000      1.000000   \n",
       "\n",
       "             active        cardio     age_years           BMI  pres_ok  \n",
       "count  60141.000000  60141.000000  60141.000000  60141.000000  60141.0  \n",
       "mean       0.803661      0.488219     53.303537     27.170529      1.0  \n",
       "std        0.397231      0.499865      6.742020      4.404558      0.0  \n",
       "min        0.000000      0.000000     30.000000     16.049383      1.0  \n",
       "25%        1.000000      0.000000     48.000000     23.875115      1.0  \n",
       "50%        1.000000      0.000000     54.000000     26.259585      1.0  \n",
       "75%        1.000000      1.000000     58.000000     29.752066      1.0  \n",
       "max        1.000000      1.000000     65.000000     46.666667      1.0  "
      ]
     },
     "execution_count": 24,
     "metadata": {},
     "output_type": "execute_result"
    }
   ],
   "source": [
    "hd2.describe()"
   ]
  },
  {
   "cell_type": "markdown",
   "id": "f8ca7e3a",
   "metadata": {},
   "source": [
    "En aquest subconjunt de dades, sembla que les dades són més \"coherents\"."
   ]
  },
  {
   "cell_type": "markdown",
   "id": "06917fa2",
   "metadata": {},
   "source": [
    "### Anàlisi descriptiu - univariant"
   ]
  },
  {
   "cell_type": "markdown",
   "id": "d2befe94",
   "metadata": {},
   "source": [
    "Gràfics variables continues:"
   ]
  },
  {
   "cell_type": "code",
   "execution_count": 25,
   "id": "4c548783",
   "metadata": {},
   "outputs": [
    {
     "data": {
      "image/png": "[encoded data removed]",
      "text/plain": [
       "<Figure size 432x288 with 1 Axes>"
      ]
     },
     "metadata": {
      "needs_background": "light"
     },
     "output_type": "display_data"
    }
   ],
   "source": [
    "antro = hd2.loc[:,['height','weight']]\n",
    "sns.boxplot(x='variable',y='value',data=antro.melt(),palette=\"pastel\")\n",
    "plt.savefig(\"./../Projecte/graf/Boxplot Alçada-Pes.png\")\n",
    "plt.show()"
   ]
  },
  {
   "cell_type": "code",
   "execution_count": 26,
   "id": "167aeff9",
   "metadata": {},
   "outputs": [
    {
     "data": {
      "image/png": "[encoded data removed]",
      "text/plain": [
       "<Figure size 432x288 with 1 Axes>"
      ]
     },
     "metadata": {
      "needs_background": "light"
     },
     "output_type": "display_data"
    }
   ],
   "source": [
    "pressio = hd2.loc[:,['ap_lo','ap_hi']]\n",
    "sns.boxplot(x='variable',y='value',data=pressio.melt(),palette=\"pastel\")\n",
    "plt.savefig(\"./../Projecte/graf/Boxplot Pressio.png\")\n",
    "plt.show()"
   ]
  },
  {
   "cell_type": "markdown",
   "id": "ddba23ea",
   "metadata": {},
   "source": [
    "Gràfics variables discretes:"
   ]
  },
  {
   "cell_type": "code",
   "execution_count": 27,
   "id": "d1e3a5b8",
   "metadata": {},
   "outputs": [
    {
     "data": {
      "image/png": "[encoded data removed]",
      "text/plain": [
       "<Figure size 432x288 with 1 Axes>"
      ]
     },
     "metadata": {
      "needs_background": "light"
     },
     "output_type": "display_data"
    }
   ],
   "source": [
    "sexe_counts = hd2['gender'].value_counts(sort = False)\n",
    "sexe_counts.index = ('Dona','Home')\n",
    "sexe_counts\n",
    "plt.bar(sexe_counts.index,sexe_counts.values,width=0.7,color=\"skyblue\")\n",
    "plt.xlabel(\"Sexe\")\n",
    "plt.savefig(\"./../Projecte/graf/Barres sexe.png\")\n",
    "plt.show()"
   ]
  },
  {
   "cell_type": "code",
   "execution_count": 28,
   "id": "857775cf",
   "metadata": {},
   "outputs": [
    {
     "data": {
      "image/png": "[encoded data removed]",
      "text/plain": [
       "<Figure size 432x288 with 1 Axes>"
      ]
     },
     "metadata": {
      "needs_background": "light"
     },
     "output_type": "display_data"
    }
   ],
   "source": [
    "colesterol_counts = hd2['cholesterol'].value_counts(sort = False)\n",
    "colesterol_counts.index = ('normal','above normal','well above normal')\n",
    "colesterol_counts\n",
    "plt.bar(colesterol_counts.index,colesterol_counts.values,width=0.7,color=\"skyblue\")\n",
    "plt.xlabel(\"Colesterol\")\n",
    "plt.savefig(\"./../Projecte/graf/Barres colesterol.png\")\n",
    "plt.show()"
   ]
  },
  {
   "cell_type": "code",
   "execution_count": 29,
   "id": "fe9d4c07",
   "metadata": {},
   "outputs": [
    {
     "data": {
      "image/png": "[encoded data removed]",
      "text/plain": [
       "<Figure size 432x288 with 1 Axes>"
      ]
     },
     "metadata": {
      "needs_background": "light"
     },
     "output_type": "display_data"
    }
   ],
   "source": [
    "gluc_counts = hd2['gluc'].value_counts(sort = False)\n",
    "gluc_counts.index = ('normal','above normal','well above normal')\n",
    "gluc_counts\n",
    "plt.bar(gluc_counts.index,gluc_counts.values,width=0.7,color=\"skyblue\")\n",
    "plt.xlabel(\"Glucosa\")\n",
    "plt.savefig(\"./../Projecte/graf/Barres glucosa.png\")\n",
    "plt.show()"
   ]
  },
  {
   "cell_type": "code",
   "execution_count": 30,
   "id": "52aad33d",
   "metadata": {},
   "outputs": [
    {
     "data": {
      "image/png": "[encoded data removed]",
      "text/plain": [
       "<Figure size 432x288 with 1 Axes>"
      ]
     },
     "metadata": {
      "needs_background": "light"
     },
     "output_type": "display_data"
    }
   ],
   "source": [
    "fuma_counts = hd2['smoke'].value_counts(sort = False)\n",
    "fuma_counts.index = ('No','Si')\n",
    "fuma_counts\n",
    "plt.bar(fuma_counts.index,fuma_counts.values,width=0.7,color=\"skyblue\")\n",
    "plt.xlabel(\"Fuma\")\n",
    "plt.savefig(\"./../Projecte/graf/Barres fuma.png\")\n",
    "plt.show()"
   ]
  },
  {
   "cell_type": "code",
   "execution_count": 31,
   "id": "6f629d57",
   "metadata": {},
   "outputs": [
    {
     "data": {
      "image/png": "[encoded data removed]",
      "text/plain": [
       "<Figure size 432x288 with 1 Axes>"
      ]
     },
     "metadata": {
      "needs_background": "light"
     },
     "output_type": "display_data"
    }
   ],
   "source": [
    "alcohol_counts = hd2['alco'].value_counts(sort = False)\n",
    "alcohol_counts.index = ('No','Si')\n",
    "alcohol_counts\n",
    "plt.bar(alcohol_counts.index,alcohol_counts.values,width=0.7,color=\"skyblue\")\n",
    "plt.xlabel(\"Pren alcohol?\")\n",
    "plt.savefig(\"./../Projecte/graf/Barres alcohol.png\")\n",
    "plt.show()"
   ]
  },
  {
   "cell_type": "code",
   "execution_count": 32,
   "id": "112e286a",
   "metadata": {},
   "outputs": [
    {
     "data": {
      "image/png": "[encoded data removed]",
      "text/plain": [
       "<Figure size 432x288 with 1 Axes>"
      ]
     },
     "metadata": {
      "needs_background": "light"
     },
     "output_type": "display_data"
    }
   ],
   "source": [
    "actiu_counts = hd2['active'].value_counts(sort = False)\n",
    "actiu_counts.index = ('No','Si')\n",
    "actiu_counts\n",
    "plt.bar(actiu_counts.index,actiu_counts.values,width=0.7,color=\"skyblue\")\n",
    "plt.xlabel(\"Fa activitat física?\")\n",
    "plt.savefig(\"./../Projecte/graf/Barres actiu.png\")\n",
    "plt.show()"
   ]
  },
  {
   "cell_type": "code",
   "execution_count": 33,
   "id": "331d310f",
   "metadata": {},
   "outputs": [
    {
     "data": {
      "image/png": "[encoded data removed]",
      "text/plain": [
       "<Figure size 432x288 with 1 Axes>"
      ]
     },
     "metadata": {
      "needs_background": "light"
     },
     "output_type": "display_data"
    }
   ],
   "source": [
    "risc_counts = hd2['cardio'].value_counts(sort = False)\n",
    "risc_counts.index = ('No','Si')\n",
    "risc_counts\n",
    "plt.bar(risc_counts.index,risc_counts.values,width=0.7,color=\"skyblue\")\n",
    "plt.xlabel(\"Risc cardiovascular\")\n",
    "plt.savefig(\"./../Projecte/graf/Barres risc cardiovascular.png\")\n",
    "plt.show()"
   ]
  },
  {
   "cell_type": "markdown",
   "id": "0e5dab44",
   "metadata": {},
   "source": [
    "### Anàlisi descriptiu - bivariant"
   ]
  },
  {
   "cell_type": "markdown",
   "id": "c267d4ad",
   "metadata": {},
   "source": [
    "Descriptiva de les variables continues per la presència o absència de malaltia cardiovascular"
   ]
  },
  {
   "cell_type": "code",
   "execution_count": 34,
   "id": "01a82753",
   "metadata": {},
   "outputs": [
    {
     "data": {
      "image/png": "[encoded data removed]",
      "text/plain": [
       "<Figure size 432x288 with 1 Axes>"
      ]
     },
     "metadata": {
      "needs_background": "light"
     },
     "output_type": "display_data"
    }
   ],
   "source": [
    "sns.countplot(x='age_years', hue='cardio', data = hd2, palette=\"pastel\")\n",
    "plt.xlabel(\"Edat (anys)\")\n",
    "plt.savefig(\"./../Projecte/graf/Barres Risc cardiovascular x edat.png\")\n",
    "plt.show()"
   ]
  },
  {
   "cell_type": "markdown",
   "id": "2c42e4e2",
   "metadata": {},
   "source": [
    "La presència o absència de risc cardiovascular està relacionada amb l’edat, a mesura que augmenta l’edat l’exposició al risc cardiovascular augmenta "
   ]
  },
  {
   "cell_type": "code",
   "execution_count": 35,
   "id": "6bfabc77",
   "metadata": {},
   "outputs": [
    {
     "data": {
      "image/png": "[encoded data removed]",
      "text/plain": [
       "<Figure size 432x288 with 1 Axes>"
      ]
     },
     "metadata": {
      "needs_background": "light"
     },
     "output_type": "display_data"
    }
   ],
   "source": [
    "sns.boxplot(x=\"cardio\", y=\"BMI\", data=hd2, palette=\"pastel\")\n",
    "plt.xlabel(\"Risc Cardiovascular\")\n",
    "plt.savefig(\"./../Projecte/graf/Boxplot Risc cardiovascular x BMI.png\")\n",
    "plt.show()"
   ]
  },
  {
   "cell_type": "code",
   "execution_count": 36,
   "id": "5030650e",
   "metadata": {},
   "outputs": [
    {
     "data": {
      "image/png": "[encoded data removed]",
      "text/plain": [
       "<Figure size 432x288 with 1 Axes>"
      ]
     },
     "metadata": {
      "needs_background": "light"
     },
     "output_type": "display_data"
    }
   ],
   "source": [
    "sns.boxplot(x=\"cardio\", y=\"ap_hi\", data=hd2, palette=\"pastel\")\n",
    "plt.xlabel(\"Risc Cardiovascular\")\n",
    "plt.ylabel(\"Pressió sistòlica (mmHg)\")\n",
    "plt.savefig(\"./../Projecte/graf/Boxplot Risc cardiovascular x Sistòlica.png\")\n",
    "plt.show()"
   ]
  },
  {
   "cell_type": "code",
   "execution_count": 37,
   "id": "7e944bd8",
   "metadata": {},
   "outputs": [
    {
     "data": {
      "image/png": "[encoded data removed]",
      "text/plain": [
       "<Figure size 432x288 with 1 Axes>"
      ]
     },
     "metadata": {
      "needs_background": "light"
     },
     "output_type": "display_data"
    }
   ],
   "source": [
    "sns.boxplot(x=\"cardio\", y=\"ap_lo\", data=hd2, palette=\"pastel\")\n",
    "plt.xlabel(\"Risc Cardiovascular\")\n",
    "plt.ylabel(\"Pressió diastòlica (mmHg)\")\n",
    "plt.savefig(\"./../Projecte/graf/Boxplot Risc cardiovascular x Diastòlica.png\")\n",
    "plt.show()"
   ]
  },
  {
   "cell_type": "markdown",
   "id": "a756871d",
   "metadata": {},
   "source": [
    "La presència o absència de risc cardiovascular està relacionada amb l'índex de massa corporal (BMI) i la pressió sistòlica o diastòlica, la presència de risc cardiovascular té un major valor d'aquestes covariables"
   ]
  },
  {
   "cell_type": "code",
   "execution_count": 38,
   "id": "ae5bc7eb",
   "metadata": {},
   "outputs": [
    {
     "data": {
      "image/png": "[encoded data removed]",
      "text/plain": [
       "<Figure size 720x360 with 2 Axes>"
      ]
     },
     "metadata": {
      "needs_background": "light"
     },
     "output_type": "display_data"
    }
   ],
   "source": [
    "g1 = sns.catplot(x=\"gender\", col=\"cardio\", data=hd2, kind=\"count\", palette=\"pastel\")\n",
    "g1.set_xticklabels(['Dona','Home'])\n",
    "g1.set_axis_labels(\"Sexe\", \"count\")\n",
    "plt.savefig(\"./../Projecte/graf/Barres Risc cardiovascular x sexe.png\")\n",
    "plt.show()"
   ]
  },
  {
   "cell_type": "code",
   "execution_count": 39,
   "id": "96d6e394",
   "metadata": {},
   "outputs": [
    {
     "data": {
      "image/png": "[encoded data removed]",
      "text/plain": [
       "<Figure size 720x360 with 2 Axes>"
      ]
     },
     "metadata": {
      "needs_background": "light"
     },
     "output_type": "display_data"
    }
   ],
   "source": [
    "g2 = sns.catplot(x=\"cholesterol\", col=\"cardio\", data=hd2, kind=\"count\", palette=\"pastel\")\n",
    "g2.set_xticklabels(['normal','above normal','well above normal'])\n",
    "g2.set_axis_labels(\"Colesterol\", \"count\")\n",
    "plt.savefig(\"./../Projecte/graf/Barres Risc cardiovascular x Colesterol.png\")\n",
    "plt.show()"
   ]
  },
  {
   "cell_type": "code",
   "execution_count": 40,
   "id": "58de76b8",
   "metadata": {},
   "outputs": [
    {
     "data": {
      "image/png": "[encoded data removed]",
      "text/plain": [
       "<Figure size 720x360 with 2 Axes>"
      ]
     },
     "metadata": {
      "needs_background": "light"
     },
     "output_type": "display_data"
    }
   ],
   "source": [
    "g3 = sns.catplot(x=\"gluc\", col=\"cardio\", data=hd2, kind=\"count\", palette=\"pastel\")\n",
    "g3.set_xticklabels(['normal','above normal','well above normal'])\n",
    "g3.set_axis_labels(\"Glucosa\", \"count\")\n",
    "plt.savefig(\"./../Projecte/graf/Barres Risc cardiovascular x Glucosa.png\")\n",
    "plt.show()"
   ]
  },
  {
   "cell_type": "code",
   "execution_count": 41,
   "id": "e15ff92d",
   "metadata": {},
   "outputs": [
    {
     "data": {
      "image/png": "[encoded data removed]",
      "text/plain": [
       "<Figure size 720x360 with 2 Axes>"
      ]
     },
     "metadata": {
      "needs_background": "light"
     },
     "output_type": "display_data"
    }
   ],
   "source": [
    "g4 = sns.catplot(x=\"smoke\", col=\"cardio\", data=hd2, kind=\"count\", palette=\"pastel\")\n",
    "g4.set_xticklabels(['No','Si'])\n",
    "g4.set_axis_labels(\"Fuma?\", \"count\")\n",
    "plt.savefig(\"./../Projecte/graf/Barres Risc cardiovascular x Fuma.png\")\n",
    "plt.show()"
   ]
  },
  {
   "cell_type": "code",
   "execution_count": 42,
   "id": "35700fc5",
   "metadata": {},
   "outputs": [
    {
     "data": {
      "image/png": "[encoded data removed]",
      "text/plain": [
       "<Figure size 720x360 with 2 Axes>"
      ]
     },
     "metadata": {
      "needs_background": "light"
     },
     "output_type": "display_data"
    }
   ],
   "source": [
    "g5 = sns.catplot(x=\"alco\", col=\"cardio\", data=hd2, kind=\"count\", palette=\"pastel\")\n",
    "g5.set_xticklabels(['No','Si'])\n",
    "g5.set_axis_labels(\"Pren alcohol?\", \"count\")\n",
    "plt.savefig(\"./../Projecte/graf/Barres Risc cardiovascular x Alcohol.png\")\n",
    "plt.show()"
   ]
  },
  {
   "cell_type": "code",
   "execution_count": 43,
   "id": "81461d08",
   "metadata": {},
   "outputs": [
    {
     "data": {
      "image/png": "[encoded data removed]",
      "text/plain": [
       "<Figure size 720x360 with 2 Axes>"
      ]
     },
     "metadata": {
      "needs_background": "light"
     },
     "output_type": "display_data"
    }
   ],
   "source": [
    "g6 = sns.catplot(x=\"active\", col=\"cardio\", data=hd2, kind=\"count\", palette=\"pastel\")\n",
    "g6.set_xticklabels(['No','Si'])\n",
    "g6.set_axis_labels(\"Fa activitat física?\", \"count\")\n",
    "plt.savefig(\"./../Projecte/graf/Barres Risc cardiovascular x Actiu.png\")\n",
    "plt.show()"
   ]
  },
  {
   "cell_type": "markdown",
   "id": "f081c557",
   "metadata": {},
   "source": [
    "Exceptuant a variable colesterol, les altres variables segueixen el mateix patró en les pel que fa als casos amb presència o no de risc cardiovascular"
   ]
  },
  {
   "cell_type": "code",
   "execution_count": 60,
   "id": "ae6cd814",
   "metadata": {},
   "outputs": [
    {
     "data": {
      "text/html": [
       "<div>\n",
       "<style scoped>\n",
       "    .dataframe tbody tr th:only-of-type {\n",
       "        vertical-align: middle;\n",
       "    }\n",
       "\n",
       "    .dataframe tbody tr th {\n",
       "        vertical-align: top;\n",
       "    }\n",
       "\n",
       "    .dataframe thead th {\n",
       "        text-align: right;\n",
       "    }\n",
       "</style>\n",
       "<table border=\"1\" class=\"dataframe\">\n",
       "  <thead>\n",
       "    <tr style=\"text-align: right;\">\n",
       "      <th></th>\n",
       "      <th>age</th>\n",
       "      <th>gender</th>\n",
       "      <th>height</th>\n",
       "      <th>weight</th>\n",
       "      <th>ap_hi</th>\n",
       "      <th>ap_lo</th>\n",
       "      <th>cholesterol</th>\n",
       "      <th>gluc</th>\n",
       "      <th>smoke</th>\n",
       "      <th>alco</th>\n",
       "      <th>active</th>\n",
       "      <th>cardio</th>\n",
       "      <th>age_years</th>\n",
       "      <th>BMI</th>\n",
       "      <th>pres_ok</th>\n",
       "    </tr>\n",
       "  </thead>\n",
       "  <tbody>\n",
       "    <tr>\n",
       "      <th>age</th>\n",
       "      <td>1.000000</td>\n",
       "      <td>-0.024541</td>\n",
       "      <td>-0.082348</td>\n",
       "      <td>0.063590</td>\n",
       "      <td>0.203923</td>\n",
       "      <td>0.146529</td>\n",
       "      <td>0.152178</td>\n",
       "      <td>0.096594</td>\n",
       "      <td>-0.047276</td>\n",
       "      <td>-0.028086</td>\n",
       "      <td>-0.012100</td>\n",
       "      <td>0.237423</td>\n",
       "      <td>0.999084</td>\n",
       "      <td>0.106747</td>\n",
       "      <td>NaN</td>\n",
       "    </tr>\n",
       "    <tr>\n",
       "      <th>gender</th>\n",
       "      <td>-0.024541</td>\n",
       "      <td>1.000000</td>\n",
       "      <td>0.501633</td>\n",
       "      <td>0.128804</td>\n",
       "      <td>0.044140</td>\n",
       "      <td>0.048885</td>\n",
       "      <td>-0.041980</td>\n",
       "      <td>-0.023873</td>\n",
       "      <td>0.336781</td>\n",
       "      <td>0.167456</td>\n",
       "      <td>0.007115</td>\n",
       "      <td>-0.004851</td>\n",
       "      <td>-0.024564</td>\n",
       "      <td>-0.139006</td>\n",
       "      <td>NaN</td>\n",
       "    </tr>\n",
       "    <tr>\n",
       "      <th>height</th>\n",
       "      <td>-0.082348</td>\n",
       "      <td>0.501633</td>\n",
       "      <td>1.000000</td>\n",
       "      <td>0.248318</td>\n",
       "      <td>-0.011004</td>\n",
       "      <td>0.007260</td>\n",
       "      <td>-0.069305</td>\n",
       "      <td>-0.030204</td>\n",
       "      <td>0.184878</td>\n",
       "      <td>0.088020</td>\n",
       "      <td>-0.005270</td>\n",
       "      <td>-0.030800</td>\n",
       "      <td>-0.082222</td>\n",
       "      <td>-0.278330</td>\n",
       "      <td>NaN</td>\n",
       "    </tr>\n",
       "    <tr>\n",
       "      <th>weight</th>\n",
       "      <td>0.063590</td>\n",
       "      <td>0.128804</td>\n",
       "      <td>0.248318</td>\n",
       "      <td>1.000000</td>\n",
       "      <td>0.231305</td>\n",
       "      <td>0.210775</td>\n",
       "      <td>0.129347</td>\n",
       "      <td>0.087563</td>\n",
       "      <td>0.055736</td>\n",
       "      <td>0.057309</td>\n",
       "      <td>-0.011840</td>\n",
       "      <td>0.157969</td>\n",
       "      <td>0.063532</td>\n",
       "      <td>0.858043</td>\n",
       "      <td>NaN</td>\n",
       "    </tr>\n",
       "    <tr>\n",
       "      <th>ap_hi</th>\n",
       "      <td>0.203923</td>\n",
       "      <td>0.044140</td>\n",
       "      <td>-0.011004</td>\n",
       "      <td>0.231305</td>\n",
       "      <td>1.000000</td>\n",
       "      <td>0.695802</td>\n",
       "      <td>0.187123</td>\n",
       "      <td>0.082736</td>\n",
       "      <td>0.020725</td>\n",
       "      <td>0.023588</td>\n",
       "      <td>0.002964</td>\n",
       "      <td>0.428595</td>\n",
       "      <td>0.203884</td>\n",
       "      <td>0.233951</td>\n",
       "      <td>NaN</td>\n",
       "    </tr>\n",
       "    <tr>\n",
       "      <th>ap_lo</th>\n",
       "      <td>0.146529</td>\n",
       "      <td>0.048885</td>\n",
       "      <td>0.007260</td>\n",
       "      <td>0.210775</td>\n",
       "      <td>0.695802</td>\n",
       "      <td>1.000000</td>\n",
       "      <td>0.146862</td>\n",
       "      <td>0.061299</td>\n",
       "      <td>0.018314</td>\n",
       "      <td>0.025976</td>\n",
       "      <td>0.000940</td>\n",
       "      <td>0.321531</td>\n",
       "      <td>0.146491</td>\n",
       "      <td>0.204024</td>\n",
       "      <td>NaN</td>\n",
       "    </tr>\n",
       "    <tr>\n",
       "      <th>cholesterol</th>\n",
       "      <td>0.152178</td>\n",
       "      <td>-0.041980</td>\n",
       "      <td>-0.069305</td>\n",
       "      <td>0.129347</td>\n",
       "      <td>0.187123</td>\n",
       "      <td>0.146862</td>\n",
       "      <td>1.000000</td>\n",
       "      <td>0.454122</td>\n",
       "      <td>0.004573</td>\n",
       "      <td>0.025623</td>\n",
       "      <td>0.007816</td>\n",
       "      <td>0.216649</td>\n",
       "      <td>0.152275</td>\n",
       "      <td>0.164307</td>\n",
       "      <td>NaN</td>\n",
       "    </tr>\n",
       "    <tr>\n",
       "      <th>gluc</th>\n",
       "      <td>0.096594</td>\n",
       "      <td>-0.023873</td>\n",
       "      <td>-0.030204</td>\n",
       "      <td>0.087563</td>\n",
       "      <td>0.082736</td>\n",
       "      <td>0.061299</td>\n",
       "      <td>0.454122</td>\n",
       "      <td>1.000000</td>\n",
       "      <td>-0.009966</td>\n",
       "      <td>0.003682</td>\n",
       "      <td>-0.007116</td>\n",
       "      <td>0.085887</td>\n",
       "      <td>0.096333</td>\n",
       "      <td>0.102298</td>\n",
       "      <td>NaN</td>\n",
       "    </tr>\n",
       "    <tr>\n",
       "      <th>smoke</th>\n",
       "      <td>-0.047276</td>\n",
       "      <td>0.336781</td>\n",
       "      <td>0.184878</td>\n",
       "      <td>0.055736</td>\n",
       "      <td>0.020725</td>\n",
       "      <td>0.018314</td>\n",
       "      <td>0.004573</td>\n",
       "      <td>-0.009966</td>\n",
       "      <td>1.000000</td>\n",
       "      <td>0.342372</td>\n",
       "      <td>0.026649</td>\n",
       "      <td>-0.023458</td>\n",
       "      <td>-0.047350</td>\n",
       "      <td>-0.042454</td>\n",
       "      <td>NaN</td>\n",
       "    </tr>\n",
       "    <tr>\n",
       "      <th>alco</th>\n",
       "      <td>-0.028086</td>\n",
       "      <td>0.167456</td>\n",
       "      <td>0.088020</td>\n",
       "      <td>0.057309</td>\n",
       "      <td>0.023588</td>\n",
       "      <td>0.025976</td>\n",
       "      <td>0.025623</td>\n",
       "      <td>0.003682</td>\n",
       "      <td>0.342372</td>\n",
       "      <td>1.000000</td>\n",
       "      <td>0.025589</td>\n",
       "      <td>-0.014735</td>\n",
       "      <td>-0.028146</td>\n",
       "      <td>0.010014</td>\n",
       "      <td>NaN</td>\n",
       "    </tr>\n",
       "    <tr>\n",
       "      <th>active</th>\n",
       "      <td>-0.012100</td>\n",
       "      <td>0.007115</td>\n",
       "      <td>-0.005270</td>\n",
       "      <td>-0.011840</td>\n",
       "      <td>0.002964</td>\n",
       "      <td>0.000940</td>\n",
       "      <td>0.007816</td>\n",
       "      <td>-0.007116</td>\n",
       "      <td>0.026649</td>\n",
       "      <td>0.025589</td>\n",
       "      <td>1.000000</td>\n",
       "      <td>-0.038530</td>\n",
       "      <td>-0.011957</td>\n",
       "      <td>-0.009508</td>\n",
       "      <td>NaN</td>\n",
       "    </tr>\n",
       "    <tr>\n",
       "      <th>cardio</th>\n",
       "      <td>0.237423</td>\n",
       "      <td>-0.004851</td>\n",
       "      <td>-0.030800</td>\n",
       "      <td>0.157969</td>\n",
       "      <td>0.428595</td>\n",
       "      <td>0.321531</td>\n",
       "      <td>0.216649</td>\n",
       "      <td>0.085887</td>\n",
       "      <td>-0.023458</td>\n",
       "      <td>-0.014735</td>\n",
       "      <td>-0.038530</td>\n",
       "      <td>1.000000</td>\n",
       "      <td>0.237049</td>\n",
       "      <td>0.171946</td>\n",
       "      <td>NaN</td>\n",
       "    </tr>\n",
       "    <tr>\n",
       "      <th>age_years</th>\n",
       "      <td>0.999084</td>\n",
       "      <td>-0.024564</td>\n",
       "      <td>-0.082222</td>\n",
       "      <td>0.063532</td>\n",
       "      <td>0.203884</td>\n",
       "      <td>0.146491</td>\n",
       "      <td>0.152275</td>\n",
       "      <td>0.096333</td>\n",
       "      <td>-0.047350</td>\n",
       "      <td>-0.028146</td>\n",
       "      <td>-0.011957</td>\n",
       "      <td>0.237049</td>\n",
       "      <td>1.000000</td>\n",
       "      <td>0.106649</td>\n",
       "      <td>NaN</td>\n",
       "    </tr>\n",
       "    <tr>\n",
       "      <th>BMI</th>\n",
       "      <td>0.106747</td>\n",
       "      <td>-0.139006</td>\n",
       "      <td>-0.278330</td>\n",
       "      <td>0.858043</td>\n",
       "      <td>0.233951</td>\n",
       "      <td>0.204024</td>\n",
       "      <td>0.164307</td>\n",
       "      <td>0.102298</td>\n",
       "      <td>-0.042454</td>\n",
       "      <td>0.010014</td>\n",
       "      <td>-0.009508</td>\n",
       "      <td>0.171946</td>\n",
       "      <td>0.106649</td>\n",
       "      <td>1.000000</td>\n",
       "      <td>NaN</td>\n",
       "    </tr>\n",
       "    <tr>\n",
       "      <th>pres_ok</th>\n",
       "      <td>NaN</td>\n",
       "      <td>NaN</td>\n",
       "      <td>NaN</td>\n",
       "      <td>NaN</td>\n",
       "      <td>NaN</td>\n",
       "      <td>NaN</td>\n",
       "      <td>NaN</td>\n",
       "      <td>NaN</td>\n",
       "      <td>NaN</td>\n",
       "      <td>NaN</td>\n",
       "      <td>NaN</td>\n",
       "      <td>NaN</td>\n",
       "      <td>NaN</td>\n",
       "      <td>NaN</td>\n",
       "      <td>NaN</td>\n",
       "    </tr>\n",
       "  </tbody>\n",
       "</table>\n",
       "</div>"
      ],
      "text/plain": [
       "                  age    gender    height    weight     ap_hi     ap_lo  \\\n",
       "age          1.000000 -0.024541 -0.082348  0.063590  0.203923  0.146529   \n",
       "gender      -0.024541  1.000000  0.501633  0.128804  0.044140  0.048885   \n",
       "height      -0.082348  0.501633  1.000000  0.248318 -0.011004  0.007260   \n",
       "weight       0.063590  0.128804  0.248318  1.000000  0.231305  0.210775   \n",
       "ap_hi        0.203923  0.044140 -0.011004  0.231305  1.000000  0.695802   \n",
       "ap_lo        0.146529  0.048885  0.007260  0.210775  0.695802  1.000000   \n",
       "cholesterol  0.152178 -0.041980 -0.069305  0.129347  0.187123  0.146862   \n",
       "gluc         0.096594 -0.023873 -0.030204  0.087563  0.082736  0.061299   \n",
       "smoke       -0.047276  0.336781  0.184878  0.055736  0.020725  0.018314   \n",
       "alco        -0.028086  0.167456  0.088020  0.057309  0.023588  0.025976   \n",
       "active      -0.012100  0.007115 -0.005270 -0.011840  0.002964  0.000940   \n",
       "cardio       0.237423 -0.004851 -0.030800  0.157969  0.428595  0.321531   \n",
       "age_years    0.999084 -0.024564 -0.082222  0.063532  0.203884  0.146491   \n",
       "BMI          0.106747 -0.139006 -0.278330  0.858043  0.233951  0.204024   \n",
       "pres_ok           NaN       NaN       NaN       NaN       NaN       NaN   \n",
       "\n",
       "             cholesterol      gluc     smoke      alco    active    cardio  \\\n",
       "age             0.152178  0.096594 -0.047276 -0.028086 -0.012100  0.237423   \n",
       "gender         -0.041980 -0.023873  0.336781  0.167456  0.007115 -0.004851   \n",
       "height         -0.069305 -0.030204  0.184878  0.088020 -0.005270 -0.030800   \n",
       "weight          0.129347  0.087563  0.055736  0.057309 -0.011840  0.157969   \n",
       "ap_hi           0.187123  0.082736  0.020725  0.023588  0.002964  0.428595   \n",
       "ap_lo           0.146862  0.061299  0.018314  0.025976  0.000940  0.321531   \n",
       "cholesterol     1.000000  0.454122  0.004573  0.025623  0.007816  0.216649   \n",
       "gluc            0.454122  1.000000 -0.009966  0.003682 -0.007116  0.085887   \n",
       "smoke           0.004573 -0.009966  1.000000  0.342372  0.026649 -0.023458   \n",
       "alco            0.025623  0.003682  0.342372  1.000000  0.025589 -0.014735   \n",
       "active          0.007816 -0.007116  0.026649  0.025589  1.000000 -0.038530   \n",
       "cardio          0.216649  0.085887 -0.023458 -0.014735 -0.038530  1.000000   \n",
       "age_years       0.152275  0.096333 -0.047350 -0.028146 -0.011957  0.237049   \n",
       "BMI             0.164307  0.102298 -0.042454  0.010014 -0.009508  0.171946   \n",
       "pres_ok              NaN       NaN       NaN       NaN       NaN       NaN   \n",
       "\n",
       "             age_years       BMI  pres_ok  \n",
       "age           0.999084  0.106747      NaN  \n",
       "gender       -0.024564 -0.139006      NaN  \n",
       "height       -0.082222 -0.278330      NaN  \n",
       "weight        0.063532  0.858043      NaN  \n",
       "ap_hi         0.203884  0.233951      NaN  \n",
       "ap_lo         0.146491  0.204024      NaN  \n",
       "cholesterol   0.152275  0.164307      NaN  \n",
       "gluc          0.096333  0.102298      NaN  \n",
       "smoke        -0.047350 -0.042454      NaN  \n",
       "alco         -0.028146  0.010014      NaN  \n",
       "active       -0.011957 -0.009508      NaN  \n",
       "cardio        0.237049  0.171946      NaN  \n",
       "age_years     1.000000  0.106649      NaN  \n",
       "BMI           0.106649  1.000000      NaN  \n",
       "pres_ok            NaN       NaN      NaN  "
      ]
     },
     "execution_count": 60,
     "metadata": {},
     "output_type": "execute_result"
    }
   ],
   "source": [
    "hd2.corr()"
   ]
  },
  {
   "cell_type": "markdown",
   "id": "667da9ce",
   "metadata": {},
   "source": [
    "## Preparació dades\n",
    "\n",
    "Definim la variable objectiu"
   ]
  },
  {
   "cell_type": "code",
   "execution_count": 45,
   "id": "3c7691b4",
   "metadata": {},
   "outputs": [],
   "source": [
    "y = hd2[\"cardio\"]"
   ]
  },
  {
   "cell_type": "markdown",
   "id": "afcd9eb9",
   "metadata": {},
   "source": [
    "Algunes de les variables característiques o features les hem de transformar. Les variables continues les estandaritzem per evitar problemes amb les diferents magnituts i les variables categòriques no binàries les transformem a dummies."
   ]
  },
  {
   "cell_type": "code",
   "execution_count": 46,
   "id": "c9a3f702",
   "metadata": {},
   "outputs": [],
   "source": [
    "hd3 = hd2\n",
    "hd3 = hd3.drop(['cardio','age','pres_ok'],axis=1)"
   ]
  },
  {
   "cell_type": "code",
   "execution_count": 47,
   "id": "94b36f13",
   "metadata": {},
   "outputs": [
    {
     "data": {
      "text/html": [
       "<div>\n",
       "<style scoped>\n",
       "    .dataframe tbody tr th:only-of-type {\n",
       "        vertical-align: middle;\n",
       "    }\n",
       "\n",
       "    .dataframe tbody tr th {\n",
       "        vertical-align: top;\n",
       "    }\n",
       "\n",
       "    .dataframe thead th {\n",
       "        text-align: right;\n",
       "    }\n",
       "</style>\n",
       "<table border=\"1\" class=\"dataframe\">\n",
       "  <thead>\n",
       "    <tr style=\"text-align: right;\">\n",
       "      <th></th>\n",
       "      <th>gender</th>\n",
       "      <th>height</th>\n",
       "      <th>weight</th>\n",
       "      <th>ap_hi</th>\n",
       "      <th>ap_lo</th>\n",
       "      <th>cholesterol</th>\n",
       "      <th>gluc</th>\n",
       "      <th>smoke</th>\n",
       "      <th>alco</th>\n",
       "      <th>active</th>\n",
       "      <th>age_years</th>\n",
       "      <th>BMI</th>\n",
       "    </tr>\n",
       "    <tr>\n",
       "      <th>id</th>\n",
       "      <th></th>\n",
       "      <th></th>\n",
       "      <th></th>\n",
       "      <th></th>\n",
       "      <th></th>\n",
       "      <th></th>\n",
       "      <th></th>\n",
       "      <th></th>\n",
       "      <th></th>\n",
       "      <th></th>\n",
       "      <th></th>\n",
       "      <th></th>\n",
       "    </tr>\n",
       "  </thead>\n",
       "  <tbody>\n",
       "    <tr>\n",
       "      <th>0</th>\n",
       "      <td>2</td>\n",
       "      <td>168</td>\n",
       "      <td>62.0</td>\n",
       "      <td>110</td>\n",
       "      <td>80</td>\n",
       "      <td>1</td>\n",
       "      <td>1</td>\n",
       "      <td>0</td>\n",
       "      <td>0</td>\n",
       "      <td>1</td>\n",
       "      <td>50</td>\n",
       "      <td>21.967120</td>\n",
       "    </tr>\n",
       "    <tr>\n",
       "      <th>1</th>\n",
       "      <td>1</td>\n",
       "      <td>156</td>\n",
       "      <td>85.0</td>\n",
       "      <td>140</td>\n",
       "      <td>90</td>\n",
       "      <td>3</td>\n",
       "      <td>1</td>\n",
       "      <td>0</td>\n",
       "      <td>0</td>\n",
       "      <td>1</td>\n",
       "      <td>55</td>\n",
       "      <td>34.927679</td>\n",
       "    </tr>\n",
       "    <tr>\n",
       "      <th>2</th>\n",
       "      <td>1</td>\n",
       "      <td>165</td>\n",
       "      <td>64.0</td>\n",
       "      <td>130</td>\n",
       "      <td>70</td>\n",
       "      <td>3</td>\n",
       "      <td>1</td>\n",
       "      <td>0</td>\n",
       "      <td>0</td>\n",
       "      <td>0</td>\n",
       "      <td>52</td>\n",
       "      <td>23.507805</td>\n",
       "    </tr>\n",
       "    <tr>\n",
       "      <th>3</th>\n",
       "      <td>2</td>\n",
       "      <td>169</td>\n",
       "      <td>82.0</td>\n",
       "      <td>150</td>\n",
       "      <td>100</td>\n",
       "      <td>1</td>\n",
       "      <td>1</td>\n",
       "      <td>0</td>\n",
       "      <td>0</td>\n",
       "      <td>1</td>\n",
       "      <td>48</td>\n",
       "      <td>28.710479</td>\n",
       "    </tr>\n",
       "    <tr>\n",
       "      <th>4</th>\n",
       "      <td>1</td>\n",
       "      <td>156</td>\n",
       "      <td>56.0</td>\n",
       "      <td>100</td>\n",
       "      <td>60</td>\n",
       "      <td>1</td>\n",
       "      <td>1</td>\n",
       "      <td>0</td>\n",
       "      <td>0</td>\n",
       "      <td>0</td>\n",
       "      <td>48</td>\n",
       "      <td>23.011177</td>\n",
       "    </tr>\n",
       "  </tbody>\n",
       "</table>\n",
       "</div>"
      ],
      "text/plain": [
       "    gender  height  weight  ap_hi  ap_lo  cholesterol  gluc  smoke  alco  \\\n",
       "id                                                                         \n",
       "0        2     168    62.0    110     80            1     1      0     0   \n",
       "1        1     156    85.0    140     90            3     1      0     0   \n",
       "2        1     165    64.0    130     70            3     1      0     0   \n",
       "3        2     169    82.0    150    100            1     1      0     0   \n",
       "4        1     156    56.0    100     60            1     1      0     0   \n",
       "\n",
       "    active  age_years        BMI  \n",
       "id                                \n",
       "0        1         50  21.967120  \n",
       "1        1         55  34.927679  \n",
       "2        0         52  23.507805  \n",
       "3        1         48  28.710479  \n",
       "4        0         48  23.011177  "
      ]
     },
     "execution_count": 47,
     "metadata": {},
     "output_type": "execute_result"
    }
   ],
   "source": [
    "hd3.head()"
   ]
  },
  {
   "cell_type": "code",
   "execution_count": 48,
   "id": "ce5c184d",
   "metadata": {},
   "outputs": [
    {
     "data": {
      "text/html": [
       "<div>\n",
       "<style scoped>\n",
       "    .dataframe tbody tr th:only-of-type {\n",
       "        vertical-align: middle;\n",
       "    }\n",
       "\n",
       "    .dataframe tbody tr th {\n",
       "        vertical-align: top;\n",
       "    }\n",
       "\n",
       "    .dataframe thead th {\n",
       "        text-align: right;\n",
       "    }\n",
       "</style>\n",
       "<table border=\"1\" class=\"dataframe\">\n",
       "  <thead>\n",
       "    <tr style=\"text-align: right;\">\n",
       "      <th></th>\n",
       "      <th>gender</th>\n",
       "      <th>height</th>\n",
       "      <th>weight</th>\n",
       "      <th>ap_hi</th>\n",
       "      <th>ap_lo</th>\n",
       "      <th>cholesterol</th>\n",
       "      <th>gluc</th>\n",
       "      <th>smoke</th>\n",
       "      <th>alco</th>\n",
       "      <th>active</th>\n",
       "      <th>age_years</th>\n",
       "      <th>BMI</th>\n",
       "    </tr>\n",
       "  </thead>\n",
       "  <tbody>\n",
       "    <tr>\n",
       "      <th>gender</th>\n",
       "      <td>1.000000</td>\n",
       "      <td>0.501633</td>\n",
       "      <td>0.128804</td>\n",
       "      <td>0.044140</td>\n",
       "      <td>0.048885</td>\n",
       "      <td>-0.041980</td>\n",
       "      <td>-0.023873</td>\n",
       "      <td>0.336781</td>\n",
       "      <td>0.167456</td>\n",
       "      <td>0.007115</td>\n",
       "      <td>-0.024564</td>\n",
       "      <td>-0.139006</td>\n",
       "    </tr>\n",
       "    <tr>\n",
       "      <th>height</th>\n",
       "      <td>0.501633</td>\n",
       "      <td>1.000000</td>\n",
       "      <td>0.248318</td>\n",
       "      <td>-0.011004</td>\n",
       "      <td>0.007260</td>\n",
       "      <td>-0.069305</td>\n",
       "      <td>-0.030204</td>\n",
       "      <td>0.184878</td>\n",
       "      <td>0.088020</td>\n",
       "      <td>-0.005270</td>\n",
       "      <td>-0.082222</td>\n",
       "      <td>-0.278330</td>\n",
       "    </tr>\n",
       "    <tr>\n",
       "      <th>weight</th>\n",
       "      <td>0.128804</td>\n",
       "      <td>0.248318</td>\n",
       "      <td>1.000000</td>\n",
       "      <td>0.231305</td>\n",
       "      <td>0.210775</td>\n",
       "      <td>0.129347</td>\n",
       "      <td>0.087563</td>\n",
       "      <td>0.055736</td>\n",
       "      <td>0.057309</td>\n",
       "      <td>-0.011840</td>\n",
       "      <td>0.063532</td>\n",
       "      <td>0.858043</td>\n",
       "    </tr>\n",
       "    <tr>\n",
       "      <th>ap_hi</th>\n",
       "      <td>0.044140</td>\n",
       "      <td>-0.011004</td>\n",
       "      <td>0.231305</td>\n",
       "      <td>1.000000</td>\n",
       "      <td>0.695802</td>\n",
       "      <td>0.187123</td>\n",
       "      <td>0.082736</td>\n",
       "      <td>0.020725</td>\n",
       "      <td>0.023588</td>\n",
       "      <td>0.002964</td>\n",
       "      <td>0.203884</td>\n",
       "      <td>0.233951</td>\n",
       "    </tr>\n",
       "    <tr>\n",
       "      <th>ap_lo</th>\n",
       "      <td>0.048885</td>\n",
       "      <td>0.007260</td>\n",
       "      <td>0.210775</td>\n",
       "      <td>0.695802</td>\n",
       "      <td>1.000000</td>\n",
       "      <td>0.146862</td>\n",
       "      <td>0.061299</td>\n",
       "      <td>0.018314</td>\n",
       "      <td>0.025976</td>\n",
       "      <td>0.000940</td>\n",
       "      <td>0.146491</td>\n",
       "      <td>0.204024</td>\n",
       "    </tr>\n",
       "    <tr>\n",
       "      <th>cholesterol</th>\n",
       "      <td>-0.041980</td>\n",
       "      <td>-0.069305</td>\n",
       "      <td>0.129347</td>\n",
       "      <td>0.187123</td>\n",
       "      <td>0.146862</td>\n",
       "      <td>1.000000</td>\n",
       "      <td>0.454122</td>\n",
       "      <td>0.004573</td>\n",
       "      <td>0.025623</td>\n",
       "      <td>0.007816</td>\n",
       "      <td>0.152275</td>\n",
       "      <td>0.164307</td>\n",
       "    </tr>\n",
       "    <tr>\n",
       "      <th>gluc</th>\n",
       "      <td>-0.023873</td>\n",
       "      <td>-0.030204</td>\n",
       "      <td>0.087563</td>\n",
       "      <td>0.082736</td>\n",
       "      <td>0.061299</td>\n",
       "      <td>0.454122</td>\n",
       "      <td>1.000000</td>\n",
       "      <td>-0.009966</td>\n",
       "      <td>0.003682</td>\n",
       "      <td>-0.007116</td>\n",
       "      <td>0.096333</td>\n",
       "      <td>0.102298</td>\n",
       "    </tr>\n",
       "    <tr>\n",
       "      <th>smoke</th>\n",
       "      <td>0.336781</td>\n",
       "      <td>0.184878</td>\n",
       "      <td>0.055736</td>\n",
       "      <td>0.020725</td>\n",
       "      <td>0.018314</td>\n",
       "      <td>0.004573</td>\n",
       "      <td>-0.009966</td>\n",
       "      <td>1.000000</td>\n",
       "      <td>0.342372</td>\n",
       "      <td>0.026649</td>\n",
       "      <td>-0.047350</td>\n",
       "      <td>-0.042454</td>\n",
       "    </tr>\n",
       "    <tr>\n",
       "      <th>alco</th>\n",
       "      <td>0.167456</td>\n",
       "      <td>0.088020</td>\n",
       "      <td>0.057309</td>\n",
       "      <td>0.023588</td>\n",
       "      <td>0.025976</td>\n",
       "      <td>0.025623</td>\n",
       "      <td>0.003682</td>\n",
       "      <td>0.342372</td>\n",
       "      <td>1.000000</td>\n",
       "      <td>0.025589</td>\n",
       "      <td>-0.028146</td>\n",
       "      <td>0.010014</td>\n",
       "    </tr>\n",
       "    <tr>\n",
       "      <th>active</th>\n",
       "      <td>0.007115</td>\n",
       "      <td>-0.005270</td>\n",
       "      <td>-0.011840</td>\n",
       "      <td>0.002964</td>\n",
       "      <td>0.000940</td>\n",
       "      <td>0.007816</td>\n",
       "      <td>-0.007116</td>\n",
       "      <td>0.026649</td>\n",
       "      <td>0.025589</td>\n",
       "      <td>1.000000</td>\n",
       "      <td>-0.011957</td>\n",
       "      <td>-0.009508</td>\n",
       "    </tr>\n",
       "    <tr>\n",
       "      <th>age_years</th>\n",
       "      <td>-0.024564</td>\n",
       "      <td>-0.082222</td>\n",
       "      <td>0.063532</td>\n",
       "      <td>0.203884</td>\n",
       "      <td>0.146491</td>\n",
       "      <td>0.152275</td>\n",
       "      <td>0.096333</td>\n",
       "      <td>-0.047350</td>\n",
       "      <td>-0.028146</td>\n",
       "      <td>-0.011957</td>\n",
       "      <td>1.000000</td>\n",
       "      <td>0.106649</td>\n",
       "    </tr>\n",
       "    <tr>\n",
       "      <th>BMI</th>\n",
       "      <td>-0.139006</td>\n",
       "      <td>-0.278330</td>\n",
       "      <td>0.858043</td>\n",
       "      <td>0.233951</td>\n",
       "      <td>0.204024</td>\n",
       "      <td>0.164307</td>\n",
       "      <td>0.102298</td>\n",
       "      <td>-0.042454</td>\n",
       "      <td>0.010014</td>\n",
       "      <td>-0.009508</td>\n",
       "      <td>0.106649</td>\n",
       "      <td>1.000000</td>\n",
       "    </tr>\n",
       "  </tbody>\n",
       "</table>\n",
       "</div>"
      ],
      "text/plain": [
       "               gender    height    weight     ap_hi     ap_lo  cholesterol  \\\n",
       "gender       1.000000  0.501633  0.128804  0.044140  0.048885    -0.041980   \n",
       "height       0.501633  1.000000  0.248318 -0.011004  0.007260    -0.069305   \n",
       "weight       0.128804  0.248318  1.000000  0.231305  0.210775     0.129347   \n",
       "ap_hi        0.044140 -0.011004  0.231305  1.000000  0.695802     0.187123   \n",
       "ap_lo        0.048885  0.007260  0.210775  0.695802  1.000000     0.146862   \n",
       "cholesterol -0.041980 -0.069305  0.129347  0.187123  0.146862     1.000000   \n",
       "gluc        -0.023873 -0.030204  0.087563  0.082736  0.061299     0.454122   \n",
       "smoke        0.336781  0.184878  0.055736  0.020725  0.018314     0.004573   \n",
       "alco         0.167456  0.088020  0.057309  0.023588  0.025976     0.025623   \n",
       "active       0.007115 -0.005270 -0.011840  0.002964  0.000940     0.007816   \n",
       "age_years   -0.024564 -0.082222  0.063532  0.203884  0.146491     0.152275   \n",
       "BMI         -0.139006 -0.278330  0.858043  0.233951  0.204024     0.164307   \n",
       "\n",
       "                 gluc     smoke      alco    active  age_years       BMI  \n",
       "gender      -0.023873  0.336781  0.167456  0.007115  -0.024564 -0.139006  \n",
       "height      -0.030204  0.184878  0.088020 -0.005270  -0.082222 -0.278330  \n",
       "weight       0.087563  0.055736  0.057309 -0.011840   0.063532  0.858043  \n",
       "ap_hi        0.082736  0.020725  0.023588  0.002964   0.203884  0.233951  \n",
       "ap_lo        0.061299  0.018314  0.025976  0.000940   0.146491  0.204024  \n",
       "cholesterol  0.454122  0.004573  0.025623  0.007816   0.152275  0.164307  \n",
       "gluc         1.000000 -0.009966  0.003682 -0.007116   0.096333  0.102298  \n",
       "smoke       -0.009966  1.000000  0.342372  0.026649  -0.047350 -0.042454  \n",
       "alco         0.003682  0.342372  1.000000  0.025589  -0.028146  0.010014  \n",
       "active      -0.007116  0.026649  0.025589  1.000000  -0.011957 -0.009508  \n",
       "age_years    0.096333 -0.047350 -0.028146 -0.011957   1.000000  0.106649  \n",
       "BMI          0.102298 -0.042454  0.010014 -0.009508   0.106649  1.000000  "
      ]
     },
     "execution_count": 48,
     "metadata": {},
     "output_type": "execute_result"
    }
   ],
   "source": [
    "hd3.corr()"
   ]
  },
  {
   "cell_type": "markdown",
   "id": "ffdaa1ee",
   "metadata": {},
   "source": [
    "- Estandaritzem variables continues"
   ]
  },
  {
   "cell_type": "code",
   "execution_count": 49,
   "id": "cdd51d32",
   "metadata": {},
   "outputs": [],
   "source": [
    "cols_to_scale = ['ap_hi','ap_lo','age_years','BMI']"
   ]
  },
  {
   "cell_type": "code",
   "execution_count": 50,
   "id": "905fec44",
   "metadata": {},
   "outputs": [],
   "source": [
    "scaler = StandardScaler()\n",
    "scaler.fit(hd3[cols_to_scale])\n",
    "hd3[cols_to_scale] = scaler.transform(hd3[cols_to_scale])"
   ]
  },
  {
   "cell_type": "code",
   "execution_count": 51,
   "id": "85507089",
   "metadata": {},
   "outputs": [
    {
     "data": {
      "text/html": [
       "<div>\n",
       "<style scoped>\n",
       "    .dataframe tbody tr th:only-of-type {\n",
       "        vertical-align: middle;\n",
       "    }\n",
       "\n",
       "    .dataframe tbody tr th {\n",
       "        vertical-align: top;\n",
       "    }\n",
       "\n",
       "    .dataframe thead th {\n",
       "        text-align: right;\n",
       "    }\n",
       "</style>\n",
       "<table border=\"1\" class=\"dataframe\">\n",
       "  <thead>\n",
       "    <tr style=\"text-align: right;\">\n",
       "      <th></th>\n",
       "      <th>gender</th>\n",
       "      <th>height</th>\n",
       "      <th>weight</th>\n",
       "      <th>ap_hi</th>\n",
       "      <th>ap_lo</th>\n",
       "      <th>cholesterol</th>\n",
       "      <th>gluc</th>\n",
       "      <th>smoke</th>\n",
       "      <th>alco</th>\n",
       "      <th>active</th>\n",
       "      <th>age_years</th>\n",
       "      <th>BMI</th>\n",
       "    </tr>\n",
       "    <tr>\n",
       "      <th>id</th>\n",
       "      <th></th>\n",
       "      <th></th>\n",
       "      <th></th>\n",
       "      <th></th>\n",
       "      <th></th>\n",
       "      <th></th>\n",
       "      <th></th>\n",
       "      <th></th>\n",
       "      <th></th>\n",
       "      <th></th>\n",
       "      <th></th>\n",
       "      <th></th>\n",
       "    </tr>\n",
       "  </thead>\n",
       "  <tbody>\n",
       "    <tr>\n",
       "      <th>0</th>\n",
       "      <td>2</td>\n",
       "      <td>168</td>\n",
       "      <td>62.0</td>\n",
       "      <td>-1.146025</td>\n",
       "      <td>-0.126959</td>\n",
       "      <td>1</td>\n",
       "      <td>1</td>\n",
       "      <td>0</td>\n",
       "      <td>0</td>\n",
       "      <td>1</td>\n",
       "      <td>-0.489996</td>\n",
       "      <td>-1.181379</td>\n",
       "    </tr>\n",
       "    <tr>\n",
       "      <th>1</th>\n",
       "      <td>1</td>\n",
       "      <td>156</td>\n",
       "      <td>85.0</td>\n",
       "      <td>1.033979</td>\n",
       "      <td>1.086810</td>\n",
       "      <td>3</td>\n",
       "      <td>1</td>\n",
       "      <td>0</td>\n",
       "      <td>0</td>\n",
       "      <td>1</td>\n",
       "      <td>0.251627</td>\n",
       "      <td>1.761179</td>\n",
       "    </tr>\n",
       "    <tr>\n",
       "      <th>2</th>\n",
       "      <td>1</td>\n",
       "      <td>165</td>\n",
       "      <td>64.0</td>\n",
       "      <td>0.307311</td>\n",
       "      <td>-1.340729</td>\n",
       "      <td>3</td>\n",
       "      <td>1</td>\n",
       "      <td>0</td>\n",
       "      <td>0</td>\n",
       "      <td>0</td>\n",
       "      <td>-0.193347</td>\n",
       "      <td>-0.831583</td>\n",
       "    </tr>\n",
       "    <tr>\n",
       "      <th>3</th>\n",
       "      <td>2</td>\n",
       "      <td>169</td>\n",
       "      <td>82.0</td>\n",
       "      <td>1.760647</td>\n",
       "      <td>2.300580</td>\n",
       "      <td>1</td>\n",
       "      <td>1</td>\n",
       "      <td>0</td>\n",
       "      <td>0</td>\n",
       "      <td>1</td>\n",
       "      <td>-0.786646</td>\n",
       "      <td>0.349630</td>\n",
       "    </tr>\n",
       "    <tr>\n",
       "      <th>4</th>\n",
       "      <td>1</td>\n",
       "      <td>156</td>\n",
       "      <td>56.0</td>\n",
       "      <td>-1.872692</td>\n",
       "      <td>-2.554499</td>\n",
       "      <td>1</td>\n",
       "      <td>1</td>\n",
       "      <td>0</td>\n",
       "      <td>0</td>\n",
       "      <td>0</td>\n",
       "      <td>-0.786646</td>\n",
       "      <td>-0.944337</td>\n",
       "    </tr>\n",
       "  </tbody>\n",
       "</table>\n",
       "</div>"
      ],
      "text/plain": [
       "    gender  height  weight     ap_hi     ap_lo  cholesterol  gluc  smoke  \\\n",
       "id                                                                         \n",
       "0        2     168    62.0 -1.146025 -0.126959            1     1      0   \n",
       "1        1     156    85.0  1.033979  1.086810            3     1      0   \n",
       "2        1     165    64.0  0.307311 -1.340729            3     1      0   \n",
       "3        2     169    82.0  1.760647  2.300580            1     1      0   \n",
       "4        1     156    56.0 -1.872692 -2.554499            1     1      0   \n",
       "\n",
       "    alco  active  age_years       BMI  \n",
       "id                                     \n",
       "0      0       1  -0.489996 -1.181379  \n",
       "1      0       1   0.251627  1.761179  \n",
       "2      0       0  -0.193347 -0.831583  \n",
       "3      0       1  -0.786646  0.349630  \n",
       "4      0       0  -0.786646 -0.944337  "
      ]
     },
     "execution_count": 51,
     "metadata": {},
     "output_type": "execute_result"
    }
   ],
   "source": [
    "hd3.head()"
   ]
  },
  {
   "cell_type": "markdown",
   "id": "0afba16c",
   "metadata": {},
   "source": [
    "- Creem dummies de les variables colesterol i glucosa"
   ]
  },
  {
   "cell_type": "code",
   "execution_count": 52,
   "id": "a1316f79",
   "metadata": {},
   "outputs": [
    {
     "data": {
      "text/html": [
       "<div>\n",
       "<style scoped>\n",
       "    .dataframe tbody tr th:only-of-type {\n",
       "        vertical-align: middle;\n",
       "    }\n",
       "\n",
       "    .dataframe tbody tr th {\n",
       "        vertical-align: top;\n",
       "    }\n",
       "\n",
       "    .dataframe thead th {\n",
       "        text-align: right;\n",
       "    }\n",
       "</style>\n",
       "<table border=\"1\" class=\"dataframe\">\n",
       "  <thead>\n",
       "    <tr style=\"text-align: right;\">\n",
       "      <th></th>\n",
       "      <th>gender</th>\n",
       "      <th>height</th>\n",
       "      <th>weight</th>\n",
       "      <th>ap_hi</th>\n",
       "      <th>ap_lo</th>\n",
       "      <th>smoke</th>\n",
       "      <th>alco</th>\n",
       "      <th>active</th>\n",
       "      <th>age_years</th>\n",
       "      <th>BMI</th>\n",
       "      <th>cholesterol_1</th>\n",
       "      <th>cholesterol_2</th>\n",
       "      <th>cholesterol_3</th>\n",
       "      <th>gluc_1</th>\n",
       "      <th>gluc_2</th>\n",
       "      <th>gluc_3</th>\n",
       "    </tr>\n",
       "    <tr>\n",
       "      <th>id</th>\n",
       "      <th></th>\n",
       "      <th></th>\n",
       "      <th></th>\n",
       "      <th></th>\n",
       "      <th></th>\n",
       "      <th></th>\n",
       "      <th></th>\n",
       "      <th></th>\n",
       "      <th></th>\n",
       "      <th></th>\n",
       "      <th></th>\n",
       "      <th></th>\n",
       "      <th></th>\n",
       "      <th></th>\n",
       "      <th></th>\n",
       "      <th></th>\n",
       "    </tr>\n",
       "  </thead>\n",
       "  <tbody>\n",
       "    <tr>\n",
       "      <th>0</th>\n",
       "      <td>2</td>\n",
       "      <td>168</td>\n",
       "      <td>62.0</td>\n",
       "      <td>-1.146025</td>\n",
       "      <td>-0.126959</td>\n",
       "      <td>0</td>\n",
       "      <td>0</td>\n",
       "      <td>1</td>\n",
       "      <td>-0.489996</td>\n",
       "      <td>-1.181379</td>\n",
       "      <td>1</td>\n",
       "      <td>0</td>\n",
       "      <td>0</td>\n",
       "      <td>1</td>\n",
       "      <td>0</td>\n",
       "      <td>0</td>\n",
       "    </tr>\n",
       "    <tr>\n",
       "      <th>1</th>\n",
       "      <td>1</td>\n",
       "      <td>156</td>\n",
       "      <td>85.0</td>\n",
       "      <td>1.033979</td>\n",
       "      <td>1.086810</td>\n",
       "      <td>0</td>\n",
       "      <td>0</td>\n",
       "      <td>1</td>\n",
       "      <td>0.251627</td>\n",
       "      <td>1.761179</td>\n",
       "      <td>0</td>\n",
       "      <td>0</td>\n",
       "      <td>1</td>\n",
       "      <td>1</td>\n",
       "      <td>0</td>\n",
       "      <td>0</td>\n",
       "    </tr>\n",
       "    <tr>\n",
       "      <th>2</th>\n",
       "      <td>1</td>\n",
       "      <td>165</td>\n",
       "      <td>64.0</td>\n",
       "      <td>0.307311</td>\n",
       "      <td>-1.340729</td>\n",
       "      <td>0</td>\n",
       "      <td>0</td>\n",
       "      <td>0</td>\n",
       "      <td>-0.193347</td>\n",
       "      <td>-0.831583</td>\n",
       "      <td>0</td>\n",
       "      <td>0</td>\n",
       "      <td>1</td>\n",
       "      <td>1</td>\n",
       "      <td>0</td>\n",
       "      <td>0</td>\n",
       "    </tr>\n",
       "    <tr>\n",
       "      <th>3</th>\n",
       "      <td>2</td>\n",
       "      <td>169</td>\n",
       "      <td>82.0</td>\n",
       "      <td>1.760647</td>\n",
       "      <td>2.300580</td>\n",
       "      <td>0</td>\n",
       "      <td>0</td>\n",
       "      <td>1</td>\n",
       "      <td>-0.786646</td>\n",
       "      <td>0.349630</td>\n",
       "      <td>1</td>\n",
       "      <td>0</td>\n",
       "      <td>0</td>\n",
       "      <td>1</td>\n",
       "      <td>0</td>\n",
       "      <td>0</td>\n",
       "    </tr>\n",
       "    <tr>\n",
       "      <th>4</th>\n",
       "      <td>1</td>\n",
       "      <td>156</td>\n",
       "      <td>56.0</td>\n",
       "      <td>-1.872692</td>\n",
       "      <td>-2.554499</td>\n",
       "      <td>0</td>\n",
       "      <td>0</td>\n",
       "      <td>0</td>\n",
       "      <td>-0.786646</td>\n",
       "      <td>-0.944337</td>\n",
       "      <td>1</td>\n",
       "      <td>0</td>\n",
       "      <td>0</td>\n",
       "      <td>1</td>\n",
       "      <td>0</td>\n",
       "      <td>0</td>\n",
       "    </tr>\n",
       "  </tbody>\n",
       "</table>\n",
       "</div>"
      ],
      "text/plain": [
       "    gender  height  weight     ap_hi     ap_lo  smoke  alco  active  \\\n",
       "id                                                                    \n",
       "0        2     168    62.0 -1.146025 -0.126959      0     0       1   \n",
       "1        1     156    85.0  1.033979  1.086810      0     0       1   \n",
       "2        1     165    64.0  0.307311 -1.340729      0     0       0   \n",
       "3        2     169    82.0  1.760647  2.300580      0     0       1   \n",
       "4        1     156    56.0 -1.872692 -2.554499      0     0       0   \n",
       "\n",
       "    age_years       BMI  cholesterol_1  cholesterol_2  cholesterol_3  gluc_1  \\\n",
       "id                                                                             \n",
       "0   -0.489996 -1.181379              1              0              0       1   \n",
       "1    0.251627  1.761179              0              0              1       1   \n",
       "2   -0.193347 -0.831583              0              0              1       1   \n",
       "3   -0.786646  0.349630              1              0              0       1   \n",
       "4   -0.786646 -0.944337              1              0              0       1   \n",
       "\n",
       "    gluc_2  gluc_3  \n",
       "id                  \n",
       "0        0       0  \n",
       "1        0       0  \n",
       "2        0       0  \n",
       "3        0       0  \n",
       "4        0       0  "
      ]
     },
     "execution_count": 52,
     "metadata": {},
     "output_type": "execute_result"
    }
   ],
   "source": [
    "hd3b = pd.get_dummies(hd3, columns = ['cholesterol', 'gluc'])\n",
    "hd3b.head()"
   ]
  },
  {
   "cell_type": "markdown",
   "id": "0e91e15e",
   "metadata": {},
   "source": [
    "- Recodifiquem la variable sexe, la passem a dummy"
   ]
  },
  {
   "cell_type": "code",
   "execution_count": 53,
   "id": "8bba0bbd",
   "metadata": {},
   "outputs": [],
   "source": [
    "hd3b['gender2'] = hd3b['gender'] - 1 "
   ]
  },
  {
   "cell_type": "markdown",
   "id": "809a614e",
   "metadata": {},
   "source": [
    "Creem el conjunt de dades X amb les variables característiques a analitzar"
   ]
  },
  {
   "cell_type": "code",
   "execution_count": 54,
   "id": "8c6be151",
   "metadata": {},
   "outputs": [],
   "source": [
    "X = hd3b[['gender2','age_years','BMI','ap_hi','ap_lo','cholesterol_2','cholesterol_3','gluc_2','gluc_3','smoke','alco','active']]"
   ]
  },
  {
   "cell_type": "code",
   "execution_count": 55,
   "id": "44c51be7",
   "metadata": {},
   "outputs": [
    {
     "data": {
      "text/html": [
       "<div>\n",
       "<style scoped>\n",
       "    .dataframe tbody tr th:only-of-type {\n",
       "        vertical-align: middle;\n",
       "    }\n",
       "\n",
       "    .dataframe tbody tr th {\n",
       "        vertical-align: top;\n",
       "    }\n",
       "\n",
       "    .dataframe thead th {\n",
       "        text-align: right;\n",
       "    }\n",
       "</style>\n",
       "<table border=\"1\" class=\"dataframe\">\n",
       "  <thead>\n",
       "    <tr style=\"text-align: right;\">\n",
       "      <th></th>\n",
       "      <th>gender2</th>\n",
       "      <th>age_years</th>\n",
       "      <th>BMI</th>\n",
       "      <th>ap_hi</th>\n",
       "      <th>ap_lo</th>\n",
       "      <th>cholesterol_2</th>\n",
       "      <th>cholesterol_3</th>\n",
       "      <th>gluc_2</th>\n",
       "      <th>gluc_3</th>\n",
       "      <th>smoke</th>\n",
       "      <th>alco</th>\n",
       "      <th>active</th>\n",
       "    </tr>\n",
       "    <tr>\n",
       "      <th>id</th>\n",
       "      <th></th>\n",
       "      <th></th>\n",
       "      <th></th>\n",
       "      <th></th>\n",
       "      <th></th>\n",
       "      <th></th>\n",
       "      <th></th>\n",
       "      <th></th>\n",
       "      <th></th>\n",
       "      <th></th>\n",
       "      <th></th>\n",
       "      <th></th>\n",
       "    </tr>\n",
       "  </thead>\n",
       "  <tbody>\n",
       "    <tr>\n",
       "      <th>0</th>\n",
       "      <td>1</td>\n",
       "      <td>-0.489996</td>\n",
       "      <td>-1.181379</td>\n",
       "      <td>-1.146025</td>\n",
       "      <td>-0.126959</td>\n",
       "      <td>0</td>\n",
       "      <td>0</td>\n",
       "      <td>0</td>\n",
       "      <td>0</td>\n",
       "      <td>0</td>\n",
       "      <td>0</td>\n",
       "      <td>1</td>\n",
       "    </tr>\n",
       "    <tr>\n",
       "      <th>1</th>\n",
       "      <td>0</td>\n",
       "      <td>0.251627</td>\n",
       "      <td>1.761179</td>\n",
       "      <td>1.033979</td>\n",
       "      <td>1.086810</td>\n",
       "      <td>0</td>\n",
       "      <td>1</td>\n",
       "      <td>0</td>\n",
       "      <td>0</td>\n",
       "      <td>0</td>\n",
       "      <td>0</td>\n",
       "      <td>1</td>\n",
       "    </tr>\n",
       "    <tr>\n",
       "      <th>2</th>\n",
       "      <td>0</td>\n",
       "      <td>-0.193347</td>\n",
       "      <td>-0.831583</td>\n",
       "      <td>0.307311</td>\n",
       "      <td>-1.340729</td>\n",
       "      <td>0</td>\n",
       "      <td>1</td>\n",
       "      <td>0</td>\n",
       "      <td>0</td>\n",
       "      <td>0</td>\n",
       "      <td>0</td>\n",
       "      <td>0</td>\n",
       "    </tr>\n",
       "    <tr>\n",
       "      <th>3</th>\n",
       "      <td>1</td>\n",
       "      <td>-0.786646</td>\n",
       "      <td>0.349630</td>\n",
       "      <td>1.760647</td>\n",
       "      <td>2.300580</td>\n",
       "      <td>0</td>\n",
       "      <td>0</td>\n",
       "      <td>0</td>\n",
       "      <td>0</td>\n",
       "      <td>0</td>\n",
       "      <td>0</td>\n",
       "      <td>1</td>\n",
       "    </tr>\n",
       "    <tr>\n",
       "      <th>4</th>\n",
       "      <td>0</td>\n",
       "      <td>-0.786646</td>\n",
       "      <td>-0.944337</td>\n",
       "      <td>-1.872692</td>\n",
       "      <td>-2.554499</td>\n",
       "      <td>0</td>\n",
       "      <td>0</td>\n",
       "      <td>0</td>\n",
       "      <td>0</td>\n",
       "      <td>0</td>\n",
       "      <td>0</td>\n",
       "      <td>0</td>\n",
       "    </tr>\n",
       "  </tbody>\n",
       "</table>\n",
       "</div>"
      ],
      "text/plain": [
       "    gender2  age_years       BMI     ap_hi     ap_lo  cholesterol_2  \\\n",
       "id                                                                    \n",
       "0         1  -0.489996 -1.181379 -1.146025 -0.126959              0   \n",
       "1         0   0.251627  1.761179  1.033979  1.086810              0   \n",
       "2         0  -0.193347 -0.831583  0.307311 -1.340729              0   \n",
       "3         1  -0.786646  0.349630  1.760647  2.300580              0   \n",
       "4         0  -0.786646 -0.944337 -1.872692 -2.554499              0   \n",
       "\n",
       "    cholesterol_3  gluc_2  gluc_3  smoke  alco  active  \n",
       "id                                                      \n",
       "0               0       0       0      0     0       1  \n",
       "1               1       0       0      0     0       1  \n",
       "2               1       0       0      0     0       0  \n",
       "3               0       0       0      0     0       1  \n",
       "4               0       0       0      0     0       0  "
      ]
     },
     "execution_count": 55,
     "metadata": {},
     "output_type": "execute_result"
    }
   ],
   "source": [
    "X.head()"
   ]
  },
  {
   "cell_type": "markdown",
   "id": "4827b515",
   "metadata": {},
   "source": [
    "Dividim els conjunts de dades en Train i Test, fem que Train tingui el 67% de les observacions i Test el 33% restant, amb la instrucció shape ho revisem"
   ]
  },
  {
   "cell_type": "code",
   "execution_count": 56,
   "id": "6dbfcc3f",
   "metadata": {},
   "outputs": [
    {
     "name": "stdout",
     "output_type": "stream",
     "text": [
      "(40294, 12) (19847, 12) (40294,) (19847,)\n"
     ]
    }
   ],
   "source": [
    "X_train, X_test, y_train, y_test = train_test_split(X, y, test_size=0.33, random_state=1)\n",
    "print(X_train.shape, X_test.shape, y_train.shape, y_test.shape)"
   ]
  },
  {
   "cell_type": "markdown",
   "id": "bc83a542",
   "metadata": {},
   "source": [
    "## Regressio Logística"
   ]
  },
  {
   "cell_type": "markdown",
   "id": "e2a1edcc",
   "metadata": {},
   "source": [
    "Ajustem el model de regressió logística"
   ]
  },
  {
   "cell_type": "code",
   "execution_count": 57,
   "id": "afef48c1",
   "metadata": {},
   "outputs": [
    {
     "data": {
      "text/plain": [
       "LogisticRegression()"
      ]
     },
     "execution_count": 57,
     "metadata": {},
     "output_type": "execute_result"
    }
   ],
   "source": [
    "logreg1 = LogisticRegression()\n",
    "logreg1.fit(X_train, y_train)"
   ]
  },
  {
   "cell_type": "markdown",
   "id": "fc87ea0e",
   "metadata": {},
   "source": [
    "Valors predits i mètriques"
   ]
  },
  {
   "cell_type": "code",
   "execution_count": 58,
   "id": "365ce8c6",
   "metadata": {},
   "outputs": [],
   "source": [
    "y_logreg1_pred = logreg1.predict(X_test)"
   ]
  },
  {
   "cell_type": "code",
   "execution_count": 59,
   "id": "772b0f4e",
   "metadata": {},
   "outputs": [
    {
     "name": "stdout",
     "output_type": "stream",
     "text": [
      "Logistic Regression Model:\n",
      "Accuracy = 0.721\n",
      "Precision = 0.750\n",
      "Specificity = 0.792\n",
      "Sensitivity = 0.646\n",
      "F1-score = 0.694\n"
     ]
    }
   ],
   "source": [
    "report1t = classification_report(y_test, y_logreg1_pred,digits=3,output_dict = True)\n",
    "\n",
    "print(\"Logistic Regression Model:\")\n",
    "print(\"Accuracy = {0:0.3f}\".format(report1t[\"accuracy\"]))\n",
    "print(\"Precision = {0:0.3f}\".format(report1t[\"1\"][\"precision\"]))\n",
    "print(\"Specificity = {0:0.3f}\".format(report1t[\"0\"][\"recall\"]))\n",
    "print(\"Sensitivity = {0:0.3f}\".format(report1t[\"1\"][\"recall\"]))\n",
    "print(\"F1-score = {0:0.3f}\".format(report1t[\"1\"][\"f1-score\"]))"
   ]
  },
  {
   "cell_type": "code",
   "execution_count": 62,
   "id": "0d293f2e",
   "metadata": {},
   "outputs": [
    {
     "name": "stdout",
     "output_type": "stream",
     "text": [
      "Confusion matrix:\n",
      "[[8006 2102]\n",
      " [3445 6294]]\n"
     ]
    }
   ],
   "source": [
    "print(\"Confusion matrix:\")\n",
    "print(metrics.confusion_matrix(y_test, y_logreg1_pred))"
   ]
  },
  {
   "cell_type": "code",
   "execution_count": 63,
   "id": "67398150",
   "metadata": {},
   "outputs": [
    {
     "name": "stdout",
     "output_type": "stream",
     "text": [
      "True positives: 6294\n",
      "True negatives: 8006\n",
      "False Positives: 2102\n",
      "False Negatives: 3445\n"
     ]
    }
   ],
   "source": [
    "conf1 = metrics.confusion_matrix(y_test, y_logreg1_pred)\n",
    "print(\"True positives:\", conf1[1,1])\n",
    "print(\"True negatives:\", conf1[0,0])\n",
    "print(\"False Positives:\", conf1[0,1])\n",
    "print(\"False Negatives:\", conf1[1,0])"
   ]
  },
  {
   "cell_type": "markdown",
   "id": "bed73fe4",
   "metadata": {},
   "source": [
    "Ajustem un altre model, únicament amb les variables que haviem vist gràficament que tenien una certa dependència"
   ]
  },
  {
   "cell_type": "code",
   "execution_count": 64,
   "id": "bb79d25b",
   "metadata": {},
   "outputs": [],
   "source": [
    "X_train2 = X_train[['age_years','BMI','ap_hi','ap_lo','cholesterol_2','cholesterol_3']]"
   ]
  },
  {
   "cell_type": "code",
   "execution_count": 65,
   "id": "439d6ee7",
   "metadata": {},
   "outputs": [
    {
     "data": {
      "text/plain": [
       "LogisticRegression()"
      ]
     },
     "execution_count": 65,
     "metadata": {},
     "output_type": "execute_result"
    }
   ],
   "source": [
    "logreg2 = LogisticRegression()\n",
    "logreg2.fit(X_train2, y_train)"
   ]
  },
  {
   "cell_type": "code",
   "execution_count": 66,
   "id": "bfc1a931",
   "metadata": {},
   "outputs": [],
   "source": [
    "X_test2 = X_test[['age_years','BMI','ap_hi','ap_lo','cholesterol_2','cholesterol_3']]\n",
    "y_logreg2_pred = logreg2.predict(X_test2)"
   ]
  },
  {
   "cell_type": "code",
   "execution_count": 67,
   "id": "299d5141",
   "metadata": {},
   "outputs": [
    {
     "name": "stdout",
     "output_type": "stream",
     "text": [
      "Logistic Regression Model:\n",
      "Accuracy = 0.718\n",
      "Precision = 0.749\n",
      "Specificity = 0.794\n",
      "Sensitivity = 0.638\n",
      "F1-score = 0.689\n"
     ]
    }
   ],
   "source": [
    "report2t = classification_report(y_test, y_logreg2_pred,digits=3,output_dict = True)\n",
    "\n",
    "print(\"Logistic Regression Model:\")\n",
    "print(\"Accuracy = {0:0.3f}\".format(report2t[\"accuracy\"]))\n",
    "print(\"Precision = {0:0.3f}\".format(report2t[\"1\"][\"precision\"]))\n",
    "print(\"Specificity = {0:0.3f}\".format(report2t[\"0\"][\"recall\"]))\n",
    "print(\"Sensitivity = {0:0.3f}\".format(report2t[\"1\"][\"recall\"]))\n",
    "print(\"F1-score = {0:0.3f}\".format(report2t[\"1\"][\"f1-score\"]))"
   ]
  },
  {
   "cell_type": "code",
   "execution_count": 68,
   "id": "6f6e95db",
   "metadata": {},
   "outputs": [
    {
     "name": "stdout",
     "output_type": "stream",
     "text": [
      "Confusion matrix:\n",
      "[[8030 2078]\n",
      " [3525 6214]]\n"
     ]
    }
   ],
   "source": [
    "print(\"Confusion matrix:\")\n",
    "print(metrics.confusion_matrix(y_test, y_logreg2_pred))"
   ]
  },
  {
   "cell_type": "code",
   "execution_count": 69,
   "id": "335ee524",
   "metadata": {},
   "outputs": [
    {
     "name": "stdout",
     "output_type": "stream",
     "text": [
      "True positives: 6214\n",
      "True negatives: 8030\n",
      "False Positives: 2078\n",
      "False Negatives: 3525\n"
     ]
    }
   ],
   "source": [
    "conf2 = metrics.confusion_matrix(y_test, y_logreg2_pred)\n",
    "print(\"True positives:\", conf2[1,1])\n",
    "print(\"True negatives:\", conf2[0,0])\n",
    "print(\"False Positives:\", conf2[0,1])\n",
    "print(\"False Negatives:\", conf2[1,0])"
   ]
  },
  {
   "cell_type": "markdown",
   "id": "076a1491",
   "metadata": {},
   "source": [
    "El model 2 amb menys features, no aconseguim millorar el model.\n",
    "Provarem un tercer model, amb només una de les unes variables de pressió donat que estan \"fortament\" correlacionades"
   ]
  },
  {
   "cell_type": "code",
   "execution_count": 71,
   "id": "7c74c8cb",
   "metadata": {},
   "outputs": [],
   "source": [
    "X_train3 = X_train[['gender2','age_years','BMI','ap_hi','cholesterol_2','cholesterol_3','gluc_2','gluc_3','smoke','alco','active']]"
   ]
  },
  {
   "cell_type": "code",
   "execution_count": 72,
   "id": "6576b894",
   "metadata": {},
   "outputs": [
    {
     "data": {
      "text/plain": [
       "LogisticRegression()"
      ]
     },
     "execution_count": 72,
     "metadata": {},
     "output_type": "execute_result"
    }
   ],
   "source": [
    "logreg3 = LogisticRegression()\n",
    "logreg3.fit(X_train3, y_train)"
   ]
  },
  {
   "cell_type": "code",
   "execution_count": 74,
   "id": "e9d56095",
   "metadata": {},
   "outputs": [],
   "source": [
    "X_test3 = X_test[['gender2','age_years','BMI','ap_hi','cholesterol_2','cholesterol_3','gluc_2','gluc_3','smoke','alco','active']]\n",
    "y_logreg3_pred = logreg3.predict(X_test3)"
   ]
  },
  {
   "cell_type": "code",
   "execution_count": 75,
   "id": "5046eb9c",
   "metadata": {},
   "outputs": [
    {
     "name": "stdout",
     "output_type": "stream",
     "text": [
      "Logistic Regression Model:\n",
      "Accuracy = 0.720\n",
      "Precision = 0.750\n",
      "Specificity = 0.793\n",
      "Sensitivity = 0.643\n",
      "F1-score = 0.692\n"
     ]
    }
   ],
   "source": [
    "report3t = classification_report(y_test, y_logreg3_pred,digits=3,output_dict = True)\n",
    "\n",
    "print(\"Logistic Regression Model:\")\n",
    "print(\"Accuracy = {0:0.3f}\".format(report3t[\"accuracy\"]))\n",
    "print(\"Precision = {0:0.3f}\".format(report3t[\"1\"][\"precision\"]))\n",
    "print(\"Specificity = {0:0.3f}\".format(report3t[\"0\"][\"recall\"]))\n",
    "print(\"Sensitivity = {0:0.3f}\".format(report3t[\"1\"][\"recall\"]))\n",
    "print(\"F1-score = {0:0.3f}\".format(report3t[\"1\"][\"f1-score\"]))"
   ]
  },
  {
   "cell_type": "code",
   "execution_count": 76,
   "id": "0052218b",
   "metadata": {},
   "outputs": [
    {
     "name": "stdout",
     "output_type": "stream",
     "text": [
      "Confusion matrix:\n",
      "[[8019 2089]\n",
      " [3478 6261]]\n"
     ]
    }
   ],
   "source": [
    "print(\"Confusion matrix:\")\n",
    "print(metrics.confusion_matrix(y_test, y_logreg3_pred))"
   ]
  },
  {
   "cell_type": "code",
   "execution_count": 77,
   "id": "ec5bd730",
   "metadata": {},
   "outputs": [
    {
     "name": "stdout",
     "output_type": "stream",
     "text": [
      "True positives: 6261\n",
      "True negatives: 8019\n",
      "False Positives: 2089\n",
      "False Negatives: 3478\n"
     ]
    }
   ],
   "source": [
    "conf3 = metrics.confusion_matrix(y_test, y_logreg3_pred)\n",
    "print(\"True positives:\", conf3[1,1])\n",
    "print(\"True negatives:\", conf3[0,0])\n",
    "print(\"False Positives:\", conf3[0,1])\n",
    "print(\"False Negatives:\", conf3[1,0])"
   ]
  },
  {
   "cell_type": "markdown",
   "id": "ca44e271",
   "metadata": {},
   "source": [
    "Tampoc hem aconseguit millorar el model"
   ]
  },
  {
   "cell_type": "markdown",
   "id": "00e9c8b9",
   "metadata": {},
   "source": [
    "## Arbre de decisió"
   ]
  },
  {
   "cell_type": "markdown",
   "id": "a60940c3",
   "metadata": {},
   "source": [
    "Creem arbre de decisió"
   ]
  },
  {
   "cell_type": "code",
   "execution_count": 78,
   "id": "abfdd30f",
   "metadata": {},
   "outputs": [],
   "source": [
    "clf_train1 = DecisionTreeClassifier()\n",
    "clf_train1 = clf_train1.fit(X_train,y_train)"
   ]
  },
  {
   "cell_type": "markdown",
   "id": "f1264e73",
   "metadata": {},
   "source": [
    "Valors predits i mètriques"
   ]
  },
  {
   "cell_type": "code",
   "execution_count": 79,
   "id": "98b70fd6",
   "metadata": {},
   "outputs": [],
   "source": [
    "y_clf_train1_pred = clf_train1.predict(X_test)"
   ]
  },
  {
   "cell_type": "code",
   "execution_count": 80,
   "id": "90813def",
   "metadata": {},
   "outputs": [
    {
     "name": "stdout",
     "output_type": "stream",
     "text": [
      "Decision TreeClassifier Model:\n",
      "Accuracy = 0.632\n",
      "Precision = 0.631\n",
      "Specificity = 0.659\n",
      "Sensitivity = 0.604\n",
      "F1-score = 0.617\n"
     ]
    }
   ],
   "source": [
    "report1t_clf = classification_report(y_test, y_clf_train1_pred,digits=3,output_dict = True)\n",
    "\n",
    "print(\"Decision TreeClassifier Model:\")\n",
    "print(\"Accuracy = {0:0.3f}\".format(report1t_clf[\"accuracy\"]))\n",
    "print(\"Precision = {0:0.3f}\".format(report1t_clf[\"1\"][\"precision\"]))\n",
    "print(\"Specificity = {0:0.3f}\".format(report1t_clf[\"0\"][\"recall\"]))\n",
    "print(\"Sensitivity = {0:0.3f}\".format(report1t_clf[\"1\"][\"recall\"]))\n",
    "print(\"F1-score = {0:0.3f}\".format(report1t_clf[\"1\"][\"f1-score\"]))"
   ]
  },
  {
   "cell_type": "code",
   "execution_count": 81,
   "id": "305b4cbd",
   "metadata": {},
   "outputs": [
    {
     "name": "stdout",
     "output_type": "stream",
     "text": [
      "Confusion matrix:\n",
      "[[6663 3445]\n",
      " [3857 5882]]\n"
     ]
    }
   ],
   "source": [
    "print(\"Confusion matrix:\")\n",
    "print(metrics.confusion_matrix(y_test, y_clf_train1_pred))"
   ]
  },
  {
   "cell_type": "code",
   "execution_count": 82,
   "id": "49c1c5e8",
   "metadata": {},
   "outputs": [
    {
     "name": "stdout",
     "output_type": "stream",
     "text": [
      "True positives: 5882\n",
      "True negatives: 6663\n",
      "False Positives: 3445\n",
      "False Negatives: 3857\n"
     ]
    }
   ],
   "source": [
    "conf1_clf = metrics.confusion_matrix(y_test, y_clf_train1_pred)\n",
    "print(\"True positives:\", conf1_clf[1,1])\n",
    "print(\"True negatives:\", conf1_clf[0,0])\n",
    "print(\"False Positives:\", conf1_clf[0,1])\n",
    "print(\"False Negatives:\", conf1_clf[1,0])"
   ]
  },
  {
   "cell_type": "markdown",
   "id": "91acb725",
   "metadata": {},
   "source": [
    "## K-Nearest Neighbors"
   ]
  },
  {
   "cell_type": "markdown",
   "id": "15b4a61f",
   "metadata": {},
   "source": [
    "Ajustem el model K-Nearest Neighbors"
   ]
  },
  {
   "cell_type": "code",
   "execution_count": 83,
   "id": "872e6ebc",
   "metadata": {},
   "outputs": [
    {
     "data": {
      "text/plain": [
       "KNeighborsClassifier()"
      ]
     },
     "execution_count": 83,
     "metadata": {},
     "output_type": "execute_result"
    }
   ],
   "source": [
    "knn_train1 = KNeighborsClassifier(n_neighbors=5)\n",
    "knn_train1.fit(X_train, y_train)"
   ]
  },
  {
   "cell_type": "markdown",
   "id": "b9939a06",
   "metadata": {},
   "source": [
    "Valors predits i mètriques"
   ]
  },
  {
   "cell_type": "code",
   "execution_count": 84,
   "id": "5e09430b",
   "metadata": {},
   "outputs": [],
   "source": [
    "y_knn_train1_pred = knn_train1.predict(X_test)"
   ]
  },
  {
   "cell_type": "code",
   "execution_count": 85,
   "id": "5bf7698a",
   "metadata": {},
   "outputs": [
    {
     "name": "stdout",
     "output_type": "stream",
     "text": [
      "K-Nearest Neighbors Model:\n",
      "Accuracy = 0.689\n",
      "Precision = 0.690\n",
      "Specificity = 0.711\n",
      "Sensitivity = 0.667\n",
      "F1-score = 0.678\n"
     ]
    }
   ],
   "source": [
    "report1t_knn = classification_report(y_test, y_knn_train1_pred,digits=3,output_dict = True)\n",
    "\n",
    "print(\"K-Nearest Neighbors Model:\")\n",
    "print(\"Accuracy = {0:0.3f}\".format(report1t_knn[\"accuracy\"]))\n",
    "print(\"Precision = {0:0.3f}\".format(report1t_knn[\"1\"][\"precision\"]))\n",
    "print(\"Specificity = {0:0.3f}\".format(report1t_knn[\"0\"][\"recall\"]))\n",
    "print(\"Sensitivity = {0:0.3f}\".format(report1t_knn[\"1\"][\"recall\"]))\n",
    "print(\"F1-score = {0:0.3f}\".format(report1t_knn[\"1\"][\"f1-score\"]))"
   ]
  },
  {
   "cell_type": "code",
   "execution_count": 86,
   "id": "db5cfc96",
   "metadata": {},
   "outputs": [
    {
     "name": "stdout",
     "output_type": "stream",
     "text": [
      "Confusion matrix:\n",
      "[[7187 2921]\n",
      " [3244 6495]]\n"
     ]
    }
   ],
   "source": [
    "print(\"Confusion matrix:\")\n",
    "print(metrics.confusion_matrix(y_test, y_knn_train1_pred))"
   ]
  },
  {
   "cell_type": "code",
   "execution_count": 87,
   "id": "17dc2f98",
   "metadata": {},
   "outputs": [
    {
     "name": "stdout",
     "output_type": "stream",
     "text": [
      "True positives: 6495\n",
      "True negatives: 7187\n",
      "False Positives: 2921\n",
      "False Negatives: 3244\n"
     ]
    }
   ],
   "source": [
    "conf1_knn = metrics.confusion_matrix(y_test, y_knn_train1_pred)\n",
    "print(\"True positives:\", conf1_knn[1,1])\n",
    "print(\"True negatives:\", conf1_knn[0,0])\n",
    "print(\"False Positives:\", conf1_knn[0,1])\n",
    "print(\"False Negatives:\", conf1_knn[1,0])"
   ]
  },
  {
   "cell_type": "markdown",
   "id": "b05eb3fe",
   "metadata": {},
   "source": [
    "## Support Vector Machines"
   ]
  },
  {
   "cell_type": "markdown",
   "id": "c3511973",
   "metadata": {},
   "source": [
    "Ajustem el model de Support Vector Machines"
   ]
  },
  {
   "cell_type": "code",
   "execution_count": 88,
   "id": "1b79487d",
   "metadata": {},
   "outputs": [
    {
     "data": {
      "text/plain": [
       "SVC()"
      ]
     },
     "execution_count": 88,
     "metadata": {},
     "output_type": "execute_result"
    }
   ],
   "source": [
    "svc_train1 = SVC()\n",
    "svc_train1.fit(X_train, y_train)"
   ]
  },
  {
   "cell_type": "markdown",
   "id": "ce54fed1",
   "metadata": {},
   "source": [
    "Valors predits i mètriques"
   ]
  },
  {
   "cell_type": "code",
   "execution_count": 89,
   "id": "7488f505",
   "metadata": {},
   "outputs": [],
   "source": [
    "y_svc_train1_pred = svc_train1.predict(X_test)"
   ]
  },
  {
   "cell_type": "code",
   "execution_count": 90,
   "id": "c8e0fc40",
   "metadata": {},
   "outputs": [
    {
     "name": "stdout",
     "output_type": "stream",
     "text": [
      "Support Vector Machines Model:\n",
      "Accuracy = 0.728\n",
      "Precision = 0.758\n",
      "Specificity = 0.798\n",
      "Sensitivity = 0.655\n",
      "F1-score = 0.702\n"
     ]
    }
   ],
   "source": [
    "report1t_svc = classification_report(y_test, y_svc_train1_pred,digits=3,output_dict = True)\n",
    "\n",
    "print(\"Support Vector Machines Model:\")\n",
    "print(\"Accuracy = {0:0.3f}\".format(report1t_svc[\"accuracy\"]))\n",
    "print(\"Precision = {0:0.3f}\".format(report1t_svc[\"1\"][\"precision\"]))\n",
    "print(\"Specificity = {0:0.3f}\".format(report1t_svc[\"0\"][\"recall\"]))\n",
    "print(\"Sensitivity = {0:0.3f}\".format(report1t_svc[\"1\"][\"recall\"]))\n",
    "print(\"F1-score = {0:0.3f}\".format(report1t_svc[\"1\"][\"f1-score\"]))"
   ]
  },
  {
   "cell_type": "code",
   "execution_count": 91,
   "id": "fdb2f6c1",
   "metadata": {},
   "outputs": [
    {
     "name": "stdout",
     "output_type": "stream",
     "text": [
      "Confusion matrix:\n",
      "[[8068 2040]\n",
      " [3363 6376]]\n"
     ]
    }
   ],
   "source": [
    "print(\"Confusion matrix:\")\n",
    "print(metrics.confusion_matrix(y_test, y_svc_train1_pred))"
   ]
  },
  {
   "cell_type": "code",
   "execution_count": 92,
   "id": "268dcc78",
   "metadata": {},
   "outputs": [
    {
     "name": "stdout",
     "output_type": "stream",
     "text": [
      "True positives: 6376\n",
      "True negatives: 8068\n",
      "False Positives: 2040\n",
      "False Negatives: 3363\n"
     ]
    }
   ],
   "source": [
    "conf1_svc = metrics.confusion_matrix(y_test, y_svc_train1_pred)\n",
    "print(\"True positives:\", conf1_svc[1,1])\n",
    "print(\"True negatives:\", conf1_svc[0,0])\n",
    "print(\"False Positives:\", conf1_svc[0,1])\n",
    "print(\"False Negatives:\", conf1_svc[1,0])"
   ]
  },
  {
   "cell_type": "code",
   "execution_count": null,
   "id": "cf4b95cc",
   "metadata": {},
   "outputs": [],
   "source": []
  }
 ],
 "metadata": {
  "kernelspec": {
   "display_name": "Python 3",
   "language": "python",
   "name": "python3"
  },
  "language_info": {
   "codemirror_mode": {
    "name": "ipython",
    "version": 3
   },
   "file_extension": ".py",
   "mimetype": "text/x-python",
   "name": "python",
   "nbconvert_exporter": "python",
   "pygments_lexer": "ipython3",
   "version": "3.8.8"
  }
 },
 "nbformat": 4,
 "nbformat_minor": 5
}
